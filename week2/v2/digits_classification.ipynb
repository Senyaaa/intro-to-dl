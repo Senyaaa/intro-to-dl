{
 "cells": [
  {
   "cell_type": "markdown",
   "metadata": {
    "slideshow": {
     "slide_type": "slide"
    }
   },
   "source": [
    "# MNIST digits classification with TensorFlow"
   ]
  },
  {
   "cell_type": "markdown",
   "metadata": {},
   "source": [
    "<img src=\"images/mnist_sample.png\" style=\"width:30%\">"
   ]
  },
  {
   "cell_type": "code",
   "execution_count": 1,
   "metadata": {},
   "outputs": [
    {
     "name": "stdout",
     "output_type": "stream",
     "text": [
      "We're using TF 1.2.1\n"
     ]
    }
   ],
   "source": [
    "import numpy as np\n",
    "from sklearn.metrics import accuracy_score\n",
    "from matplotlib import pyplot as plt\n",
    "%matplotlib inline\n",
    "import tensorflow as tf\n",
    "print(\"We're using TF\", tf.__version__)"
   ]
  },
  {
   "cell_type": "code",
   "execution_count": 2,
   "metadata": {},
   "outputs": [
    {
     "name": "stderr",
     "output_type": "stream",
     "text": [
      "Using TensorFlow backend.\n"
     ]
    }
   ],
   "source": [
    "import sys\n",
    "sys.path.append(\"../..\")\n",
    "import grading\n",
    "\n",
    "import matplotlib_utils\n",
    "from importlib import reload\n",
    "reload(matplotlib_utils)\n",
    "\n",
    "import grading_utils\n",
    "reload(grading_utils)\n",
    "\n",
    "import keras_utils\n",
    "from keras_utils import reset_tf_session"
   ]
  },
  {
   "cell_type": "markdown",
   "metadata": {},
   "source": [
    "# Fill in your Coursera token and email\n",
    "To successfully submit your answers to our grader, please fill in your Coursera submission token and email"
   ]
  },
  {
   "cell_type": "code",
   "execution_count": 40,
   "metadata": {
    "collapsed": true
   },
   "outputs": [],
   "source": [
    "grader = grading.Grader(assignment_key=\"XtD7ho3TEeiHQBLWejjYAA\", \n",
    "                        all_parts=[\"9XaAS\", \"vmogZ\", \"RMv95\", \"i8bgs\", \"rE763\"])"
   ]
  },
  {
   "cell_type": "code",
   "execution_count": 74,
   "metadata": {
    "collapsed": true
   },
   "outputs": [],
   "source": [
    "# token expires every 30 min\n",
    "COURSERA_TOKEN = \"9SNDWNTFukQEH3lS\"\n",
    "COURSERA_EMAIL = \"senya.ds.researcher@gmail.com\""
   ]
  },
  {
   "cell_type": "markdown",
   "metadata": {},
   "source": [
    "# Look at the data\n",
    "\n",
    "In this task we have 50000 28x28 images of digits from 0 to 9.\n",
    "We will train a classifier on this data."
   ]
  },
  {
   "cell_type": "code",
   "execution_count": 42,
   "metadata": {
    "collapsed": true
   },
   "outputs": [],
   "source": [
    "import preprocessed_mnist\n",
    "X_train, y_train, X_val, y_val, X_test, y_test = preprocessed_mnist.load_dataset_from_file()"
   ]
  },
  {
   "cell_type": "code",
   "execution_count": 43,
   "metadata": {},
   "outputs": [
    {
     "name": "stdout",
     "output_type": "stream",
     "text": [
      "X_train [shape (50000, 28, 28)] sample patch:\n",
      " [[ 0.          0.29803922  0.96470588  0.98823529  0.43921569]\n",
      " [ 0.          0.33333333  0.98823529  0.90196078  0.09803922]\n",
      " [ 0.          0.33333333  0.98823529  0.8745098   0.        ]\n",
      " [ 0.          0.33333333  0.98823529  0.56862745  0.        ]\n",
      " [ 0.          0.3372549   0.99215686  0.88235294  0.        ]]\n",
      "A closeup of a sample patch:\n"
     ]
    },
    {
     "data": {
      "image/png": "[encoded data removed]",
      "text/plain": [
       "<matplotlib.figure.Figure at 0x7efd307ce2e8>"
      ]
     },
     "metadata": {},
     "output_type": "display_data"
    },
    {
     "name": "stdout",
     "output_type": "stream",
     "text": [
      "And the whole sample:\n"
     ]
    },
    {
     "data": {
      "image/png": "[encoded data removed]",
      "text/plain": [
       "<matplotlib.figure.Figure at 0x7efd30949470>"
      ]
     },
     "metadata": {},
     "output_type": "display_data"
    },
    {
     "name": "stdout",
     "output_type": "stream",
     "text": [
      "y_train [shape (50000,)] 10 samples:\n",
      " [5 0 4 1 9 2 1 3 1 4]\n"
     ]
    }
   ],
   "source": [
    "# X contains rgb values divided by 255\n",
    "print(\"X_train [shape %s] sample patch:\\n\" % (str(X_train.shape)), X_train[1, 15:20, 5:10])\n",
    "print(\"A closeup of a sample patch:\")\n",
    "plt.imshow(X_train[1, 15:20, 5:10], cmap=\"Greys\")\n",
    "plt.show()\n",
    "print(\"And the whole sample:\")\n",
    "plt.imshow(X_train[1], cmap=\"Greys\")\n",
    "plt.show()\n",
    "print(\"y_train [shape %s] 10 samples:\\n\" % (str(y_train.shape)), y_train[:10])"
   ]
  },
  {
   "cell_type": "markdown",
   "metadata": {},
   "source": [
    "# Linear model\n",
    "\n",
    "Your task is to train a linear classifier $\\vec{x} \\rightarrow y$ with SGD using TensorFlow.\n",
    "\n",
    "You will need to calculate a logit (a linear transformation) $z_k$ for each class: \n",
    "$$z_k = \\vec{x} \\cdot \\vec{w_k} + b_k \\quad k = 0..9$$\n",
    "\n",
    "And transform logits $z_k$ to valid probabilities $p_k$ with softmax: \n",
    "$$p_k = \\frac{e^{z_k}}{\\sum_{i=0}^{9}{e^{z_i}}} \\quad k = 0..9$$\n",
    "\n",
    "We will use a cross-entropy loss to train our multi-class classifier:\n",
    "$$\\text{cross-entropy}(y, p) = -\\sum_{k=0}^{9}{\\log(p_k)[y = k]}$$ \n",
    "\n",
    "where \n",
    "$$\n",
    "[x]=\\begin{cases}\n",
    "       1, \\quad \\text{if $x$ is true} \\\\\n",
    "       0, \\quad \\text{otherwise}\n",
    "    \\end{cases}\n",
    "$$\n",
    "\n",
    "Cross-entropy minimization pushes $p_k$ close to 1 when $y = k$, which is what we want.\n",
    "\n",
    "Here's the plan:\n",
    "* Flatten the images (28x28 -> 784) with `X_train.reshape((X_train.shape[0], -1))` to simplify our linear model implementation\n",
    "* Use a matrix placeholder for flattened `X_train`\n",
    "* Convert `y_train` to one-hot encoded vectors that are needed for cross-entropy\n",
    "* Use a shared variable `W` for all weights (a column $\\vec{w_k}$ per class) and `b` for all biases.\n",
    "* Aim for ~0.93 validation accuracy"
   ]
  },
  {
   "cell_type": "code",
   "execution_count": 44,
   "metadata": {},
   "outputs": [
    {
     "name": "stdout",
     "output_type": "stream",
     "text": [
      "(50000, 784)\n",
      "(10000, 784)\n"
     ]
    }
   ],
   "source": [
    "X_train_flat = X_train.reshape((X_train.shape[0], -1))\n",
    "print(X_train_flat.shape)\n",
    "\n",
    "X_val_flat = X_val.reshape((X_val.shape[0], -1))\n",
    "print(X_val_flat.shape)"
   ]
  },
  {
   "cell_type": "code",
   "execution_count": 45,
   "metadata": {},
   "outputs": [
    {
     "name": "stdout",
     "output_type": "stream",
     "text": [
      "(50000, 10)\n",
      "[[ 0.  0.  0.  0.  0.  1.  0.  0.  0.  0.]\n",
      " [ 1.  0.  0.  0.  0.  0.  0.  0.  0.  0.]\n",
      " [ 0.  0.  0.  0.  1.  0.  0.  0.  0.  0.]] [5 0 4]\n"
     ]
    }
   ],
   "source": [
    "import keras\n",
    "\n",
    "y_train_oh = keras.utils.to_categorical(y_train, 10)\n",
    "y_val_oh = keras.utils.to_categorical(y_val, 10)\n",
    "\n",
    "print(y_train_oh.shape)\n",
    "print(y_train_oh[:3], y_train[:3])"
   ]
  },
  {
   "cell_type": "code",
   "execution_count": 46,
   "metadata": {
    "collapsed": true
   },
   "outputs": [],
   "source": [
    "# run this again if you remake your graph\n",
    "s = reset_tf_session()"
   ]
  },
  {
   "cell_type": "code",
   "execution_count": 47,
   "metadata": {},
   "outputs": [],
   "source": [
    "# Model parameters: W and b\n",
    "W = tf.get_variable('W', shape = (784, 10)) ### tf.get_variable(...) with shape[0] = 784\n",
    "b = tf.get_variable('b', shape = (10)) ### tf.get_variable(...)"
   ]
  },
  {
   "cell_type": "code",
   "execution_count": 48,
   "metadata": {},
   "outputs": [],
   "source": [
    "# Placeholders for the input data\n",
    "input_X = tf.placeholder(tf.float32, [None, 784]) ### tf.placeholder(...) for flat X with shape[0] = None for any batch size\n",
    "input_y = tf.placeholder(tf.float32, shape=[None, 10]) ### tf.placeholder(...) for one-hot encoded true labels"
   ]
  },
  {
   "cell_type": "code",
   "execution_count": 59,
   "metadata": {},
   "outputs": [],
   "source": [
    "# Compute predictions\n",
    "logits = tf.matmul(input_X, W) + b ### logits for input_X, resulting shape should be [input_X.shape[0], 10]\n",
    "probas = tf.nn.softmax(logits) ### apply tf.nn.softmax to logits\n",
    "classes = tf.argmax(probas, axis=1) ### YOUR CODE HERE ### apply tf.argmax to find a class index with highest probability\n",
    "\n",
    "# Loss should be a scalar number: average loss over all the objects with tf.reduce_mean().\n",
    "# Use tf.nn.softmax_cross_entropy_with_logits on top of one-hot encoded input_y and logits.\n",
    "# It is identical to calculating cross-entropy on top of probas, but is more numerically friendly (read the docs).\n",
    "loss = tf.reduce_mean(tf.nn.softmax_cross_entropy_with_logits(labels = input_y, logits = logits)) ### cross-entropy loss\n",
    "\n",
    "# Use a default tf.train.AdamOptimizer to get an SGD step\n",
    "step = tf.train.AdamOptimizer(0.001).minimize(loss) ### optimizer step that minimizes the loss"
   ]
  },
  {
   "cell_type": "code",
   "execution_count": 73,
   "metadata": {
    "scrolled": false
   },
   "outputs": [
    {
     "data": {
      "text/html": [
       "<img src=\"data:image/jpeg;base64,/9j/4AAQSkZJRgABAQAAAQABAAD/2wBDAAIBAQEBAQIBAQECAgICAgQDAgICAgUEBAMEBgUGBgYFBgYGBwkIBgcJBwYGCAsICQoKCgoKBggLDAsKDAkKCgr/2wBDAQICAgICAgUDAwUKBwYHCgoKCgoKCgoKCgoKCgoKCgoKCgoKCgoKCgoKCgoKCgoKCgoKCgoKCgoKCgoKCgoKCgr/wAARCAEgA2ADASIAAhEBAxEB/8QAHwAAAQUBAQEBAQEAAAAAAAAAAAECAwQFBgcICQoL/8QAtRAAAgEDAwIEAwUFBAQAAAF9AQIDAAQRBRIhMUEGE1FhByJxFDKBkaEII0KxwRVS0fAkM2JyggkKFhcYGRolJicoKSo0NTY3ODk6Q0RFRkdISUpTVFVWV1hZWmNkZWZnaGlqc3R1dnd4eXqDhIWGh4iJipKTlJWWl5iZmqKjpKWmp6ipqrKztLW2t7i5usLDxMXGx8jJytLT1NXW19jZ2uHi4%2BTl5ufo6erx8vP09fb3%2BPn6/8QAHwEAAwEBAQEBAQEBAQAAAAAAAAECAwQFBgcICQoL/8QAtREAAgECBAQDBAcFBAQAAQJ3AAECAxEEBSExBhJBUQdhcRMiMoEIFEKRobHBCSMzUvAVYnLRChYkNOEl8RcYGRomJygpKjU2Nzg5OkNERUZHSElKU1RVVldYWVpjZGVmZ2hpanN0dXZ3eHl6goOEhYaHiImKkpOUlZaXmJmaoqOkpaanqKmqsrO0tba3uLm6wsPExcbHyMnK0tPU1dbX2Nna4uPk5ebn6Onq8vP09fb3%2BPn6/9oADAMBAAIRAxEAPwD9/KKKKACiiigAooooAKKKKACiiigAooooAKKKKACiiigAooooAKKKKACiiigAooooAKKKKACiiigAooooAKKKKACiiigAooooAKKKKACiiigAooooAKKKKACiiigAooooAKKKKACiiigAooooAKKKKACiiigAooooAKKKKACiiigAooooAKKKKACiiigAooooAKKKKACiiigAooooAKKKKACiiigAooooAKKKKACiiigAooooAKKKKACiiigAooooAKKKKACiiigAooooAKKKKACiiigAooooAKKKKACiiigAooooAKKKKACiiigAooooAKKKKACiiigAooooAKKKKACiiigAooooAKKKKACvPfjt%2B1J8FP2b5NGsfil4g1Maj4ilnTQNB8OeF9R1zVNR8lVed4bHTbee5kjiVkMkixlI96biu5c%2BhV4N%2B0P8D/j5/wANJ%2BDv2tv2bLLwfrWueH/B2seFNX8KeOdcutLtLywv7mwuxcQXtraXj288U2noCpt3WVJSCUKK1ABpf/BTL9izWLvxPb2nxXv0h8FWsk/jLUrvwXrEFjoIS0iu9l5dy2iwWsrQzRskMjrJIWKorMrKL2n/APBQ/wDZK1HwBrXxFTx/q9vB4f1ay0vVdE1DwNrNrrkV5ebfscC6PNaLqEr3AYGER27eaAxTcFYjy2b9gH4y%2BMf2a/jn8NfGHinwppHin4o/FS38daHc6U1xeWFpeW0OiywQ3IkihkkiN3pRRwoyYHGDuJVaPi79i/8AaV%2BLmr/Ef45fG34S/CjWvFnjWx8KaPp/gKy%2BI2s2Wm6fY6Hcaldw3qa7b6al5DqDXOqTOksVoPJSKNFZiWcgHsviH9vv9mzwv4a8OeI9XvvG3meK0v5NE8P2vwm8SXGuSRWUscV3NJpMWntf28MLzQq8s0CIpmiy37xM%2Bmaz8RPBHhv4e3XxX8T%2BJbbSvDljo76rf6vqrfZYbSySIzPPMZdvlKsYLNvxtAOcYNfGHin9hH9s/WPgX4X8Nay3hfxV470a58RHRfGV/wDHbxNpGr%2BCLW%2BuUktLO11q1sJLzXIYkjhEy3qw/aTbReYCFGPUfjR/wTotfj1%2Bzb4n%2BHHxD%2BOfjW78d%2BMPhfH4Z17xS3jbWho818tpDE2oJoS3y2FuzzQLK3kRRSEPIBIrSM5AOkg/4KUfsZf8K58V/FbWPite6Jo3giysr7xQ/ifwdq%2Bk3NlZXkxhtb37LeWsVxJaSyK6pcxxtC3luQ%2BEYjj/AI3f8FZP2d/hn8ENU%2BMfgPRfFXiqbQfiD4X8L674Y/4QXXbHU7A6zqVrax3T2cmnNdeV5Fw88DeT5d48aW8MhknjB8r1T/gmJ8ZPHfwq8faR4i8DeG9G8Y%2BI9D0fR7DxDqv7RfjPxut3aWusW%2BoTRyf27AfsEZ8likUSzHe%2BGkxknv8A9qH9gz40/GD4g/F/4g%2BBfEPheOTxfB8LbzwlZ6tfXMSvf%2BE/EdzrUsN40dvJ5ENwGt4VljEzrl2MfyKrgHqFh/wUE/Zb1H4m2XwZh8T%2BJo/Fd5oun6xLoF38N9egudO0%2B9adILu/SSyU6dDut5VeS68pYiFEhQum6j4a/wCCmH7FPi3wZ4s%2BIWkfGC4TR/Bfgi68Zaxe6h4S1W0Fx4et0Z5tWsVntUbVLNVQ4nsxPGxZArEugbB0P9kP4ofEP4mfG74g/G9fD2gxfGj4O%2BHfCF1Y%2BE9duNRl0u4tE11Ltlnns7XzYwNViMT7FZikm6OPA3fN37Y37Kn7UOj/ALDHxS%2BJv7TF34AtIfhD%2BxT8QfBHhePwFqF5cNrzXukWxn1G6W5toBYqE0i3CWcbXAVppCZ22oKAPrPw9/wUl/Yy8TaHrHiPT/i1dQWehppU1/JqnhLVbJmtNSu1s7HUIUuLVGubCWdgovoQ9qoDO0qorMPT9E%2BLvw88R/FLX/gvofiH7T4k8LaXp%2Boa/YR2k22zgvmuBa7pinlF3%2ByzHy1cyKoRmVVkjLfJOofsz%2BIPFegeKfjb/wAFIvF/wz8J%2BBbf9nu5%2BHUlx4f8QTLay6beyQyXmq3k17BbpYOTBbCG2QzCAmT/AEiQsuOw/wCCPngP4u2f7I9r8f8A9pDUDf8AxJ%2BL15H4n8V6g9nJbtJCLSCy01fKl%2BeH/iX2lpI0TYKSzTZAYtkA%2BqqKKKACiiigAooooAKKKKACiiigAooooAKKKKACiiigAoormfiv8afg58B/C6%2BN/jj8WfDPgzRXu47VNX8V69b6datO%2BdkQluHRC7bWwucnBwOKAOmorI8efEDwH8LPCN98QPid420jw5oOmRCTUtb17UorO0tELBQ0s0rKkY3MBliBkgd65/Xv2mv2bvC3hnw5408T/tB%2BB9O0bxjNFF4R1a/8WWcNtrckgBjSzleQJcswIKiMsWBGM0AdvRRRQAUUUUAFFFFABRRRQAUUUUAFFFFABRRRQAUUUUAFeI6R/wAFGP2PdSu9es9T%2BKV54ebw54cufEGoSeNfCOq6DHNpNu6Rz39rJqVrAt9bo8kStLbGVAZYxnLrn2m9iuZrOWGzuhBM8TLFMY9/lsRw209cHnHevzE1f/gjl%2B3L8X9W8L658bvjjob634a8H6hZ6h4o1D4reJvE48Q639s0q%2BtdROl30UNlpNtJc6Yvn2FkAojk2rLIFQKAfbL/ALf/AOzDa/DRvixrHiDxVpWltrkGjWNnrnwy1%2Bw1TU7%2BZDJDBZabcWKXt%2B0iBnX7PDIGVHYEhGI6LwH%2B1Z8D/iPr9l4T8OeIdUh1e/8ACk/iSHSNa8K6lpl2mmw3f2SWWWG8t4pIHWf5DDIqy99m3mvJvid8HP23fjE3w9%2BNuueDfhVofxD%2BFHjqbWPD/hm18calf6LrlncaTd6Zcx3F8%2BlQzWMxS9kkjdLW4EZiCnzBI2KvxJ%2BA37cGv/GXw7%2B014H0b4V2niy%2B%2BGGq%2BC/GOhal4r1KSw0hbi/hurW/srhNOEmoGIRuslvLFaCUuMSxY5AO40n/AIKN/sgeI9e8C%2BFvCvxG1XWdT%2BJPg3SvFvg3TtE8D6zez3mh6i%2By11GRILRmtbfdjzJJxGtuGUzeUGBOx8Nf23P2bviv8Rrn4T%2BGfF%2BrWev2%2Bl3Opw2XifwZq2iLf2NvIkc93ZS6jawR38EbyxB5bZpEXzEJIDKT5R%2Bwp%2Bwl8WP2Ydf%2BHGs%2BPPEHhq7Pg79lLwj8Mb99IuZ5WbVtLeZrmaLzII91q29NjMVdtvzRpgV418NP%2BCVf7Y3if4o%2BF/E37U3xhs9Ui0/wB4r8L%2BNPE0Hxf8Sa1eeIpdXsUtv7TtdMvoY9P0I5UsbS0UouVAmcRqtAH1L4T/4KL/sj%2BNdFj8VaD471z%2Bw7jVdL0/T/ABLe/D/W7XStRl1K9jsrKS0vp7NLa8gluZooxcQSPCDKhZwrAn0vwt8Xfh541%2BIHin4XeF/EP2vXPBclnH4ntEtJgtjJdQfaIIzKyCN3aErIURmZFkjLBRIm75h8ceBPiL4V/wCCe3jT4Ef8FDPE/wAKvBHgLQfhpFoFt8TPDvi27DNOkaW1rqT2l1ZwJpsyzC3khgjuLpjOURHJ2hu1/wCCV/w%2B%2BLHhv9kTSvir%2B0VYJb/E74sX0vjr4iQrbtF9nv79YzDabG%2BZPstjHZWe05IFrg0AfRtFFFABRRRQAUUUUAFFFFABRRRQAUUUUAFFFFABRRRQAUUUUAFFFFABRRRQAUUUUAFFFFABRRRQAUUUUAFFFFABRRRQAUUUUAFFZvjK/wDFOl%2BFNR1HwP4cttX1iGzkfTNLvdRNnDdThTsjecRyGFScAuEcqMkK3Q%2BSfC79r671Lwd8WNa%2BO/gOw8Lah8GL%2BWDxinhzxC%2Btae0SaTbaqZLe5e2tZHYW90geN4I2RwR8ysjsAe214v8AHrx/%2B0X/AMNF%2BBfgR8BfGfgrw%2Bmv%2BCvEuvavqfi/wXd60SdOu9Dt4YYY7fUrHyw39qSszMz58tAAvJLf2Xf2pvHvxo8W6p8OPjD8FrXwP4jtPCWi%2BKrHT7HxQdWin0nU2u44PMlNtb%2BVdxS2U6TQqskaZjKTSh8in8R9djsP%2BClfwf0OUD/T/gp8QzG2ed8eq%2BDWx/3yWP4Um0ty4U51HaK6N/crv8DQ/wCEH/4KF/8AR0HwZ/8ADD6t/wDNRR/wg/8AwUL/AOjoPgz/AOGH1b/5qK9mopkHjP8Awg//AAUL/wCjoPgz/wCGH1b/AOaij/hB/wDgoX/0dB8Gf/DD6t/81FezUUAeM/8ACD/8FC/%2BjoPgz/4YfVv/AJqKP%2BEH/wCChf8A0dB8Gf8Aww%2Brf/NRXs1FAHjP/CD/APBQv/o6D4M/%2BGH1b/5qKP8AhB/%2BChf/AEdB8Gf/AAw%2Brf8AzUV7NRQB4z/wg/8AwUL/AOjoPgz/AOGH1b/5qKP%2BEH/4KF/9HQfBn/ww%2Brf/ADUV7NRQB4z/AMIP/wAFC/8Ao6D4M/8Ahh9W/wDmoo/4Qf8A4KF/9HQfBn/ww%2Brf/NRXs1FAHjP/AAg//BQv/o6D4M/%2BGH1b/wCaij/hB/8AgoX/ANHQfBn/AMMPq3/zUV7NRQB4z/wg/wDwUL/6Og%2BDP/hh9W/%2Baij/AIQf/goX/wBHQfBn/wAMPq3/AM1FeqeMZ5rXwjqt1bSskkemztG6nBVhGxBHvmvOfG/7QH7DXwt8T3PgP4l/HD4U%2BH9bsBGL3SNf8T6ba3kG%2BNZE8yOaQOpZHVwWHKsDyCDWdWtRox5qklFebS/No7MFl2Y5nVdLB0Z1ZJXahCc2lte0ITdrta2tqtdSj/wg/wDwUL/6Og%2BDP/hh9W/%2Baij/AIQf/goX/wBHQfBn/wAMPq3/AM1FV/8Ahr//AIJwf9HRfBH/AMLbR/8A47R/w1//AME4P%2Bjovgj/AOFto/8A8drD6/gP%2Bf0P/A4f/JHqf6pcWf8AQuxH/hPX/wDlBY/4Qf8A4KF/9HQfBn/ww%2Brf/NRR/wAIP/wUL/6Og%2BDP/hh9W/8Amor0LxXpHw%2B8IeFtS8Wah4HtJrfS9Pmu54rLRPtEzpGhdljiijZ5HIUgIiszHAAJIFeFfAz9vj9jr43eF/hhfWvgXXtK1/4q%2BHLfWfD/AIVvPhTq7XS27/Y1lncrYbRaRSX1ujXxItSH3iXZlh1nz52f/CD/APBQv/o6D4M/%2BGH1b/5qKP8AhB/%2BChf/AEdB8Gf/AAw%2Brf8AzUVlT/tX/ssXuh6hqGgaLDa3uk694c07UdL8aeBdW0C4jXWdVi02znWG607z5I5ZnkSKVYjA8sTI80KrJLHY%2BHn7W/7EPxS8b3vw/wDCGt2JvrBtaWW51PwXe2FhK%2BkXZtNTSG9urWO2uGtplKyrFK5QDeRs%2BagC7/wg/wDwUL/6Og%2BDP/hh9W/%2Baij/AIQf/goX/wBHQfBn/wAMPq3/AM1FbHx01mDwH8B9Z%2BL3wZ%2BD3hPxnfafpH9padp17q0enWd9bhRI7/bI7W5Kr5W51KxPuwAPvZGh8JtY%2BHnxK%2BCPhn41al4D0bR7fX/Ctlrdxbzxwulik9sk7K0pRQwQMQXIUELnA6UAcv8A8IP/AMFC/wDo6D4M/wDhh9W/%2Baij/hB/%2BChf/R0HwZ/8MPq3/wA1FcJ8Av2nfEH7U/hH4h6/8Ev2T/CMV14O8eQaPodv408TvpsOt6TPpGn6pb6qzw6ZcyWhlg1CJltmidguC7xsWjTzuw/4KPNf%2BDPgnreofs6fBnwzf/GnQ/EWr6Q/jr4v/wBlaV9ksL%2Bwt7H7LeNorveS38GoQXUURgiZYww%2BYjNAHv8A/wAIP/wUL/6Og%2BDP/hh9W/8Amoo/4Qf/AIKF/wDR0HwZ/wDDD6t/81FcH46/bE8GeB/j7qfw6vvgN4XXwj4f%2BJHh7wFrniW712KHUv7c1q2sp7EWum/ZGFzak6jaRtMbmNw32grE627E7mh/GHx1D8ebj9nv4hfso%2BC9P1nU/A2seJ/BTaJ4wF%2Bt5BYXdnbGDUN%2BnQf2dLK9/blCn2pCEuPnzDhwDoP%2BEH/4KF/9HQfBn/ww%2Brf/ADUUf8IP/wAFC/8Ao6D4M/8Ahh9W/wDmorn/AINfFn4j/HP9mj/hbfhL9lv4c2Xi%2Bz8aeIvD2t%2BF9a8cyxaZbPo%2Bt6hpFxNHqUejySSqz2HmoGtI/llwSCuW8i0r/go0dU8OfAe81H9nP4OeF9R%2BOXhLX/EWlr47%2BLn9k6elrZX%2Bl29lFZ3LaK73099b6tBdRxGGBkVHX5yM0Ae%2B/wDCD/8ABQv/AKOg%2BDP/AIYfVv8A5qKP%2BEH/AOChf/R0HwZ/8MPq3/zUVxviz9qrRPDXx41HwPb/ALN2h3PgTw98RNF8B%2BJ/Graqkd5aa/qtpZ3FokWn/ZCs9rnUtNhec3KMsl0QInETtXHaL/wUT%2BHtj4QuPip8Uf2ZNM0bwlrXw01fx58Mr/TNVhvbzxHpFhdWluUuIJLaBLC6n/tLTnhi86dGW6O%2BSMxOAAex/wDCD/8ABQv/AKOg%2BDP/AIYfVv8A5qKP%2BEH/AOChf/R0HwZ/8MPq3/zUV5D4r/bv8M%2BB/wBnjRfjl4h%2BHPwGlh1/4gDw1Bruk/GaK68I6Qv2Ga5NzqmuDSVWxPmQNaCMW8oNxPap5n7/ACkNl/wUO%2BHvieD4aaN4Z%2BDPw30fxD4%2B8I2fiK5074kfEC30C2t7a7uJLazhsZvsM76lPdPBcvbosMQeKDe7RF0RgD2T/hB/%2BChf/R0HwZ/8MPq3/wA1FH/CD/8ABQv/AKOg%2BDP/AIYfVv8A5qK5Xwb%2B1L8O/iP%2B15rH7M3grwN8MDa%2BG9Sl0/WJdX8cQW3iG5nis1uJZbDRVs5GurWOSWOB53nhw6T7UYRAycif%2BCiPwYin%2BMutXPwAsV8M/DPTtBuPCuvi8tlHjF9Vv7/S4PKWSJUtIW1CwaGO4eR0ljkScbYypYA9Y/4Qf/goX/0dB8Gf/DD6t/8ANRVDwP44/as8HftWeHPgj8bviP8AD3xNo3ib4e%2BIdchm8K/Dy%2B0W6tLrTb7RLdFZ7jV75JY3TVJSVCIwaJCGxkG/8EfHGmfGb4CXnxYbQfhmk%2B27Onaj8LfGq%2BItOYRLxJHfiztCZA4ZWQR/KU%2B82eDxx/ykL%2BF//ZGfHn/p28IUAezUUUUAFfO3/BV9xcf8E%2BPir4asfAPiTxLrGv8AgrVNJ8OaV4U8GX%2BuXkuoXFjPHCFhsYJpIgSSpmZVjXfhnXcM/RNFAHzV%2B1X43g%2BKfgf4dfFbwf8AD/xzqug%2BC/ihoXiTxVosnw51iDUZdO8q5SOWPT57VLm5ktriW2ungjjeZPs2dm8Kp%2BYtS%2BGXxE8I%2BCPEXizxj%2BzV441zRPiV8PvixpPgXwtYeCLy7utMm1zxNLf2VleWyRFtLW/tpIJGe5EUNubcx3DwlVU/plRQByGieGvippHwO0vwjpnjLTIfGFn4dtbV9d1nTJdRtTepEiyTSQpPbyTKzBjgSxk5zmvE/gD4j/4KI/GvwLf%2BMbj9oT4Lac1l428S6CLdPgfq8oddK1y%2B0tZsnxOuDILMSlcfKZCuWxuP03XjP7B//JENc/7LN8R//U11ugA/4Qf/AIKF/wDR0HwZ/wDDD6t/81FH/CD/APBQv/o6D4M/%2BGH1b/5qK9mooA8Z/wCEH/4KF/8AR0HwZ/8ADD6t/wDNRR/wg/8AwUL/AOjoPgz/AOGH1b/5qK9mooA8Z/4Qf/goX/0dB8Gf/DD6t/8ANRR/wg//AAUL/wCjoPgz/wCGH1b/AOaivZqKAPGf%2BEH/AOChf/R0HwZ/8MPq3/zUUf8ACD/8FC/%2BjoPgz/4YfVv/AJqK9mooA8Z/4Qf/AIKF/wDR0HwZ/wDDD6t/81FH/CD/APBQv/o6D4M/%2BGH1b/5qK9mooA8Z/wCEH/4KF/8AR0HwZ/8ADD6t/wDNRR/wg/8AwUL/AOjoPgz/AOGH1b/5qK9mooA8Z/4Qf/goX/0dB8Gf/DD6t/8ANRR/wg//AAUL/wCjoPgz/wCGH1b/AOaivZqKAPGf%2BEH/AOChf/R0HwZ/8MPq3/zUUf8ACD/8FC/%2BjoPgz/4YfVv/AJqK9mooA8Z/4Qf/AIKF/wDR0HwZ/wDDD6t/81FH/CD/APBQv/o6D4M/%2BGH1b/5qK9mooA8Z/wCEH/4KF/8AR0HwZ/8ADD6t/wDNRR/wg/8AwUL/AOjoPgz/AOGH1b/5qK9mooA8Z/4Qf/goX/0dB8Gf/DD6t/8ANRR/wg//AAUL/wCjoPgz/wCGH1b/AOaivZqKAPGf%2BEH/AOChf/R0HwZ/8MPq3/zUUf8ACD/8FC/%2BjoPgz/4YfVv/AJqK9kmnhtomnuJljRRlndgAB7k1yHiP9oj9n/wcWHi745%2BDtKKfe/tLxNaQY%2Bu%2BQVE6lOmrzkl6tL82jpw2CxuNny4elKo%2B0Yyk/ujGT/A4r/hB/wDgoX/0dB8Gf/DD6t/81FH/AAg//BQv/o6D4M/%2BGH1b/wCaima1/wAFHf2BvD8hi1D9sf4bsy/eFp4vtLjH/fp2rmtT/wCCun/BNzSM/av2tfDT46/ZUuJ//RcTVxzzXK6fxV4L/t%2BP/wAkfR4fgLjrFK9HKcVL0w9f/wCVI6j/AIQf/goX/wBHQfBn/wAMPq3/AM1FH/CD/wDBQv8A6Og%2BDP8A4YfVv/morze8/wCC3f8AwTGtZfs1v%2B0mbyb%2BGGx8H6vKW%2BhW0x%2BtQ/8AD6f9iW550R/H2pL/AAvY/DrUmDfTdEKx/t3Jf%2BgmD9JJ/lc9NeFPia1d5NiYr%2B9RnH/0vkPTv%2BEH/wCChf8A0dB8Gf8Aww%2Brf/NRR/wg/wDwUL/6Og%2BDP/hh9W/%2BaivMf%2BHyH7Nc3/IO%2BEPxjvPT7N8MLw5/PFH/AA9/%2BEMv/Hj%2Byv8AtAXXp5HwpuDn85BS/t3J/wDn8v8Ayb9Ij/4hV4irfLKi9XSX/pVdHp3/AAg//BQv/o6D4M/%2BGH1b/wCaij/hB/8AgoX/ANHQfBn/AMMPq3/zUV5l/wAPd/hxH813%2Bxx%2B0bbp2lm%2BE0wU/lKaB/wWF%2BBzfIn7OXx2Z%2B8Y%2BFdzuH/j1H9u5R/z%2BX3S/wDkA/4hX4idMum/SVF/liWem/8ACD/8FC/%2BjoPgz/4YfVv/AJqKP%2BEH/wCChf8A0dB8Gf8Aww%2Brf/NRXmX/AA908B3Xy6B%2BxT%2B0nqrf3NO%2BEkrH/wAemWk/4eZ/GDxB8nw8/wCCXX7QFy5%2B6PEnh2DSF/EyStij%2B3Mrfw1L%2BkZv8qYf8Qt48j/FwaprvOthYL/ybFr8j07/AIQf/goX/wBHQfBn/wAMPq3/AM1FH/CD/wDBQv8A6Og%2BDP8A4YfVv/morzH/AIa4/wCCoXiXjwj/AMEqItNib7l54k%2BMemp%2BcMce8fnR/wALm/4LGRfvpP2MPhXKrciGL4iurr7EsmCfpR/bGGfw06j9KU/1S/IP%2BIb5zDSri8FB9njsLf8A8lnUS%2BbR6d/wg/8AwUL/AOjoPgz/AOGH1b/5qKt/srfEb40%2BMNY%2BKHgT46a/4X1bVPAPxCi0Oz1Xwn4audJt7q1l0HR9TVnt7i9vGWRZNRlQsJdpWNDtU5z5P/w0F/wV3j4f/gnr4Gkx3T4sQgH8466D/gnZ4i%2BLvizXPjzr/wAd/hzZeEvFdx8ZoP7V8P6fq638Nrt8I%2BG1i2zqAH3RCNzgcFyvaujDY%2BlipuEYTWl/ehKK%2B96X8jx874Tx%2BQ4VYitiMPUTfLajiaNaV2m7uNNuSjp8TVk7Ldo%2Bk6KKK7j5cKKKKACiiigAooooAKKKKACiiigAooooAKKKKACiiigAooooAwfilofj7xN8Nte8O/Cvx3beFvEt/pFxb6F4lvNFGoxaXdvGViuWtTJELgRsQ/ll1DbcE4Jrxz4Efsa%2BN/h1%2Bzte/sxfFL4keEvEnh3WrHU7TxNdaN4IvdOv9ZW/hZbm5uLi41a8aS8mmlmmlnYHeZMBExmvoGigDxT9l39lnx98F/FuqfEf4xfGq18c%2BI7vwjovhWx1Cw8LnSYoNJ0xruSHzIjdXHm3cst7O80ytHG%2BIwkMQTB8e%2BNXgb4WfCz/AILNfs7eJ/BHw38P6LrXj/wD8SYvE2r6Vo0FvdazJCvh6aNrqWNQ9wyBH2mQsV3NjGTX2ZXxB%2B3vrJ8O/wDBX39iTVi%2B1XtfiJZnng/aLPR4gPzYVx46p7LDc3Zx/wDS4r9T6LhXCrHZyqHenX%2B9YevJfjE%2B36KKK7D50KKKKACiiigAooooAKKKKACiiigAooooAy/HP/Ik6x/2Crj/ANFtXIeOf2Rf2UPih4puvHPxL/Zh%2BHniLW77Z9t1jXfBVhd3VxsRY03yyxM77URUGScKoA4Arr/HP/Ik6x/2Crj/ANFtXhnxz/4KtfsDfs1/FPVPgp8a/j1/YvibRfI/tPTP%2BEW1W58nzoI54/3kFq8bZiljb5WON2DgggceNq5fRpKWMcFG/wBvltf/ALeTV9/MqOf1OHX9Zhi3hm/d5lUlSbvry80Zwbva9r20vbTTrv8Ahgf9hX/oyz4S/wDhudM/%2BMUf8MD/ALCv/Rlnwl/8Nzpn/wAYryT/AIfm/wDBLL/o6L/yydc/%2BQqP%2BH5v/BLL/o6L/wAsnXP/AJCry/r3Cv8Az8of%2BU/8i/8AiKWJ/wCh7P8A8LKv/wA0H1ffWcOo2M2n3OfLniaOTacHawwf5186fs3/ALCPjP4KjwMvi/48WutN4A%2BDdz8ONFudC8Jvpc7aez6d9nund725H2qNdPG5lCo7yhlSIJsb6E8QarNoWg32t2%2BjXmpSWdnLOmnaeqG4uiiFhFEHZVLtjau5lGSMkDmvCr//AIKQfAkeArn4k%2BGtJ1fV9KtPhtoHje5vBf6Vp0EOnazPLFYxyXOp31tbwzsIJ5GSSVVVYvvFnjR/oDI8c%2BDf/BGp/hal/JcfGjwolxfW/gGC5m8K/CpdJN%2B3hnxEmtfbb5vt80l7f3uwwzXLuMEiQIcGNvY/h/8AsO6h8Ob/AME6xo3xXglu/BPirx1rlqbjw6THcyeIr%2B9vFjdVuQQtu12FJDZmEef3W75fO/FP/BVjwprXg/SPjN8I2tpfA198EPiR4w1G7l06LVL601HwxquiaeYI1ttQS1uoxJfXwYR3PlzmKForlYzvfrfHf/BQO7X9oPwP8HPhh8JdcudE1r4w3HgfXfHmp2EB0mW5ttI1C8urW0Md2LlZ4prRIzLLbi3JjnjV2cDAB7H8avAfxN%2BI/wACdb%2BG/gvx7oWi%2BJNZ0Y2B8Qap4Xmv7GIyAJcP9ijvYJG3RmUIv2kbGZGYyBSr8b4A/Za8UH9lTR/2Sf2gvHfh/wAYeHU8Dz%2BFfFZ0Tw3faG2sWJgS2hETJqc0loRbh1lKyOZGcMhgA2H0TV9Y8VeMvhlNrXwhvLbTtX1DTzJoc/i7w/dpFbysPla5s2a3uMDqYi0T9sr1rjf2L/jX4v8Ajt%2ByT4I%2BOPxVOj22ta54eS81t9HtpLaxSUFg7RRzSyvFH8uQHkcgdWPWgDznwr/wTb0/4Y%2BBfj94S%2BEnx88Yabd/G91W11nX/Eer6/ceGoxolppe6M6lqExuLgGCWZZyUYB4IW3x2sQrsv2gf2YPHfxF%2BCcX7N3wV8f%2BD/Bvgq58HXHhfV9O1j4fSazMNNkt0tlSzf7fbxW7JCGUedFcoT5ZKEIVfw%2B%2B/wCClHxzvdG%2BOHj3w38PvDq%2BHPC3hfwlr3wrkubK6kvL3S9X1LUrBtQu4VmVrvelh9ttrO3EU80U0UGfPlATMsP%2BCk3xxvvBOlnxB43%2BG/gxLj4ga9oF58TvHXgTVtM0yMWFnbXFtbXOiXV/DeaVfXT3EiRwXVyHaO0MqI4uYUoA9f8AiD/wT70P4l/GXwT418T3/gubw/4Gm0W405n%2BHayeK7iTSpY7mzhl157pj9lF3DBctClsrO0W0ybWYG5%2Bz3%2Byx%2B0Z8Ifih8Qvit49/aF8FeL9X8cvPJHqz/DG8tL6xVHb%2BzbIynWZY20%2BzjeRRbRRQmV5ZJmlEssryeZy/wDBTvxv8Q/AnwE8Y/BL4f6Wp%2BIL%2BC9R%2BJceuJPIvh2w166htIbKHY0RN68kk8iM4KpFYuZI8zQ57f4kftJftOfBf9oK8%2BHeoWPhH4hW2oeCPE3ifR/B/g7w7eWWs6Ta6fsNgLq5kvLiK6%2B1u4tgVgtiZsmMSLHJtAE%2BHf7E3x90D9kD4lfss%2BN/2n/D9zdePtV8UXlp4s8KfDq40uXSP%2BEg1S%2B1G/CxTardea6SahOkDh4/LVYywlZSW639pf8AZf8AHvxk%2BDcv7OPwr%2BIfhHwf4G1Xwhc%2BGdd07Uvh8%2BrXS6dNCLfbYyfb4IrVlhyq%2BdBcpuEbFCEKt5R%2Byt%2B238Zv2p73xb8IfAHxt%2BEWs%2BLNH8IeG/Ett4y0HwjqE2iaemoz3sV1pdzaHU/NlvLX7C24/aoD/pUYeGIxsrLqv7aH7Rd1%2Bw437VGi%2BIPC1vLpGra/bS6hpXwg17xLZeK7Syu7mCz1CyttPvln0%2B0uo7cTfaJnuIUSVW8xo9srgHZaj%2BwLqcvxel1vS/jOsPw/1Tx1oPjTxF4NuvD7T397rmj2Vla2ciakbkCK3P8AZmmzSQm3d3ltWIlQSutchF/wSjsPEXw%2Bv/g18VvjRFrnhDS/hfrHgD4aabaeFFtp/D%2Bkahc2lwTdSyXM0epTw/2bp0cb%2BVAmy2YPG5ldqtaT%2B2n8brz9pjwz4Q%2BIGpeHPAfgfXvDHhS60%2Be%2B%2BG%2Br6xb6zq2qC4E%2BmQeJLa8j0u3lWRbWKEOjtM1wuxX3otM1v9vL43a/8d/iB4S%2BD/w/0XU/COifCHxPrPgS7exubi/8Q69o11bW0pRYpVD2LXFy1qkaoJZJLSSRJPLkiJANA/sAfGF/FP8AwvA/tH%2BG0%2BJg%2BIVt4oF/B8NZU8OOYdBm0NIH0r%2B1DMzfZp3k8/7aJBKseMRp5R5rxF/wSPhuPhl/wrrwh8bNOsX8RfC6%2B8A/EXVtS8CJdzajpN5f3N9L/ZirdRLpUiTX155IYXUUatCDG5gUmKX9vn40aR%2ByzJ4/m8beGtZ8cR%2BNtD0TxBp8fwQ8RaVd%2BFEv/Jz5vhy5vn1TVJfnJiS3aMzK25FYROWqeM/2%2B/2ldK/YHsP2ytFuvCq3ljceIbbUdBHwo1y/TW5bC/u7e1814L5W8KJNHZ7rhtTEq6fJOY7lla3dXAPQdY/4JzWWrfGq98VJ8SLG28Dan8ST491LwxbeGnj1eXXDo/8AZb7dXS7BjtnjHmMgt/P3M6i4EbeWObf/AII4fAbSh8QdM8GeOPFNto3i/wACeGfD2haF4h8Vaxr9roUmiX9xf2k3l6lqEyXMIme0C2xVBFHbzJG6i6lrt/i78Xf2qPB37V3wr%2BGvg3xt8Przw58Q9auZL/w3c%2BBr1tU0rQ7HTTPfXn9pJqwhkP2trO3Q/YwoOoRAhthZov2Y/wBsbx9%2B0N%2B1X458CReHdHt/hxZ%2BDNJ1z4d6vDHL9v1mCa/1KymvpHMhj%2BzSyWBe2CJloCkxdhOqRgHUfB74AeI/gj4I%2BJ/iTx5490/xF4m%2BIWu3PiPxHe6J4ebSdPS4GlWenJHbWj3Fy8S%2BRp8DMXnkd5WkcsAyorfHH/KQv4X/APZGfHn/AKdvCFepeOf%2BRJ1j/sFXH/otq8t8cf8AKQv4X/8AZGfHn/p28IUAezUUUUAFFFFABRRRQAV4z%2Bwf/wAkQ1z/ALLN8R//AFNdbr2avGf2D/8AkiGuf9lm%2BI//AKmut0AezUUUUAFFFFABRRRQAUUUUAFFFFABRXmvxr/bI/ZW/Z0V1%2BNnx%2B8LeHrhBk6fe6tGbth6rboWlb8FNfOvjj/gvH%2BxHoULS/DrSvHnjlc7UufD3hKSG2z0y0t60AVfVsHFedic3yvByca1eMX2ur/crv8AA%2Boy/gri3NMMsTh8FU9k9qkkqdP/AMG1pUaf3VGfalFfm14m/wCC73jbXQyfDf4NfDTw9bN/q9W8dfGnTpWX/fsrAvOuO4z7VwWr/wDBUX4vfEW5On%2BKv%2BCpHw78Hyy9dI%2BDfwY1fXZ2X%2B4s2oQBQ3bcG4PIryqnFuTx0pty%2B6K%2B%2Bco/kzSrw1lWXP8A4V88y7C91LGU60//AAXhViZX8uZM/WKuM%2BIn7Rv7PnwiLL8Vvjp4P8NMn3k17xLa2jfTbLIpJ9q/MUf8IL8Xz5njPQP28/jmJfvxPp0uk6DJ9I0ePy8/Xp9K7T4efAzTPCyqnwS/4N44rtz/AKu8%2BJfjrT2KH%2B%2By6gZ2JHXAOfSsv9YsRW/g0kvX2k/wp0rf%2BTGP13wewX8XNsVi32wuCnGL9KmJkvv9nb0Pp/xh/wAFiv8Agm/4Nn%2BwzftN6bql0zbYrXw7pd5qLSt/dU20LqT9SBWGf%2BCsNl4w/c/Ab9hn49eNS/8AqNQh8CGx09/TNxPINufdaw/B/gb/AIK0PB9l%2BGvwY/Zp%2BDmnuuDFb213e3sQ9ALZVgbHvW4P2Mv%2BCkHjQ/aPid/wVT1CwVumneCfhpp9kkXridmMjj/eFH1vPq/wxkl5Uox/GrVv/wCS/IX%2BuHh7h/8AceHcZiH3xGKjSj/4DRpwfy5vuBf2jf8AgrR8Qj5ngH/gnz4Q8GW7f6m58f8AxLiumcf3mhslDp/unml/4RT/AILZeLedY%2BK/7PnhFG6DQNC1W/kQe/2ohSfpxR/w7F%2BKeq/P4r/4Kh/tETOep0jxXBYD8khbFI3/AASQ8N6kPJ8Yft8ftPa9bN/rrDVfi4zQSj0KpApx9DR9Wzep8car/wC49OC%2B6FP9Q/4iXmNHTA8MYGkunOlWa9XWrVG//AX6FPWv2Z/%2BCiksazfFn/grvZaBay53Wuh/CzSrPPrtuJZN4/KuZ1P9kD4LXmZPjj/wWS%2BKmpH/AJbWkXxjsdKtH9d0Ma/%2BzV3%2Bif8ABFf/AIJw6bK1/rfwGm8QX0mPO1HxH4p1K7ml9zuuNv5KK6jTP%2BCVX/BOrSMfZf2QfBj46fatOM//AKMZqP7Ixk/jpRf%2BOtWn%2BXKg/wCIqeKUf90hg8N/16oYeDXzhg2/nzX8z54vf2PP%2BCElpKLn4q/tE%2BFPFFyhz5viv49vNIT67Y71M/lVyz0b/g3b%2BHaAwXHwUuBH/wA9tQGqE/8Afby5r6d0z/gn1%2BwjpGDY/safC4Fejy%2BBLCRh%2BLxE10ek/ssfsw6AwfQv2cfAdkV%2B6bTwhZR4/wC%2BYhVwyWrB3jQw6/7cnJ/ezmxPiV41Y2HJWzmaj2VbFJL0jGdKK%2BSR8lp%2B21/wQD%2BHy%2BRpMfwottvQaR8JpJST9YbA5PvWtpf/AAVR/wCCS2kYl8MaQVgH3brTvhFepH%2BBFoD%2BlfZWj%2BEvCvh1Qnh/wzp9iB0FnZRxY/75ArQrshgMxj8M6UfSj/8AbI%2BcxGacfYxt4jM3K/f28/8A0vEs%2BRbP/gtb/wAE2dNi%2Bz2XxI1i2x/yxi%2BHurJj8Ba4qb/h95/wTrT5rr4p6/An/PWXwDq4X9LavrSitvYZ0v8Al/D/AMFP/wCWHmOhxHJ3eKpt/wDXqX/y0%2BULL/gt/wD8Evr2Tyf%2BGnkhfut14Q1iLH4taAfrXRaP/wAFcv8Agm7rjBbL9rjwwmen2zz7f/0bGuK%2Bh73TtP1GPydQsIZ0/uzRBh%2BRrndZ%2BCHwX8RKV8QfCHwvfA9ReaBbS5/76Q0/Z54v%2BXtN/wDbk1%2BU2L2PEcf%2BX1J%2BtOa/KozhtH/4KEfsIa6B/Zv7ZPwwLN91JvHFjEx/4C8oP6V0MP7WX7LFzEJrf9pf4fyIw%2BV08ZWJB/ES1l6x%2Bwt%2BxN4gJbWv2QPhhcs3WSXwHp5f/vryc/rXPTf8Ex/%2BCe88plf9jrwACeoTw7Co/IAAUXz1dKT%2BdRfowvxLHpQfzrL9GddqX7Yv7I2jR%2Bbq/wC1P8OLVMZ3XPjiwjH5tMK5XXf%2BCl//AAT78OgnUP2x/h5Jjr9g8T291/6JZ80/Tf8Agmv/AME/tKk821/Y2%2BHLHPS58KW0w/KRGFdToX7IH7JnhZg3hn9l74dacV6Gx8E2EOP%2B%2BIhR/wALsv8An0v/AAY/8g/4yWX/AD4j/wCDX/8AIo8a13/gtH/wT3srz%2Bx/B3xZ1PxjqZGU0vwf4S1C9lf6EQiM/wDfVUx/wWH%2BDWmD7T49/Zd%2BP3hWybmLUvEPwqnjglTs6mORzt/CvqnQ/Dfh3wxafYPDWgWWnQZz5FjapCmfogAq7R9XzmWrxEV5Kndf%2BTTv91g%2Bq5/PWWKhF9lRuvm5VOb7rHy/4W/4LM/8E1vFVx9hj/absdNuVO2W213Rb%2BwaNvRjPAq/rW/%2Bwz8Sfh/8XvHf7QHxF%2BFvjLTfEGg6l8ZbQ2Gr6RdrPbz7PBvhmN9roSDtdHQjsykHkGvavFPgDwH45g%2By%2BNfBOkaxFjHl6ppsVwuPTEimvHv2MPBng/4ffE39obwj4B8J6Zoek2vxntDa6Xo9hHbW8Jfwb4ZkcrHGAq7ndmOByzEnkmujDQzGM39YnCUf7sZRd/nKSsdWEhm0KjWKnCUbfZjKLv8AOUo2/E94ooortPRCiiigAooooAKKKKACiiigAooooAKKKKACiiigAooooAKKKKACiiigAr89P%2BCuOsHw7/wUl/Ye1sEgDxtrNq7D%2BFZ77w9Cc%2B3z1%2BhdfnL/AMFxv%2BJZ%2B0D%2Bzz466f8ACLvqmq7/AO5s8Q%2BEY8/%2BRf1rys7bjlVWS6JP7pQf6M%2B98L4Rrcf4CjL/AJeSnD51KGJpr8ZxP0aooor1T4IKKKKACiiigAooooAKKKKACiiigAooooAy/HP/ACJOsf8AYKuP/RbVqU2eCG5he3uIleORSrowyGBGCCPSsxfBmjIoSO41NVAwqprd0AB6ACTigDVorL/4Q/Sf%2BfvVf/B5d/8Ax2j/AIQ/Sf8An71X/wAHl3/8doA1K%2BbtC/4Je/Arwl4E8S%2BCvBnjvxnpU/iD4oQ%2BOrHXYb2ymu9AvreWOS1tLJbi0ktxZW%2Bxlit5oZgolkOSxDD33/hD9J/5%2B9V/8Hl3/wDHaP8AhD9J/wCfvVf/AAeXf/x2gD54H/BKv4Ez/Du9%2BHesfEvx9qKal4T8faBqOrX2q2b3lzF4v1W01TVbhmFoE89bizj8khAiI7qySfKV6Kb/AIJ%2B/DtvjfpXxitvi147trDRfiHc%2BONO8BwX9kNFi125sbmzubrBtDdMJVu7iRojcGISyNIqKSc%2By/8ACH6T/wA/eq/%2BDy7/APjtH/CH6T/z96r/AODy7/8AjtAFS98H%2BIbr4cy%2BCIPirr9tqcmnNbJ4wht9POoxSlcC6VHtWtPNB%2BYBrcxZHMZHFcD%2Bzn%2ByNZ/s6fBPRfgBb/HLxl4v8PaLdTBYvGFnosj3mnyWskH9mT/ZdOgR7YPJ54IVZzIoVpmhLQt6T/wh%2Bk/8/eq/%2BDy7/wDjtH/CH6T/AM/eq/8Ag8u//jtAHz7L/wAEk/2H9K17xf4n%2BF3wg0r4f3/i7SvD9p9q%2BH%2BgabpTaRNo2qNqtleWflWuEn%2B2i2mkEgkilNhah4yIyG6jS/2LLrw54M1rw/4S/at%2BKGka34r8Uya9408bWL6J/auv3D2VvYBJfM0xra3RLW0tIkNpBbugtkIcMXLetf8ACH6T/wA/eq/%2BDy7/APjtH/CH6T/z96r/AODy7/8AjtAHh3xE/wCCVf7A3xL0Twho%2Bvfsx%2BDVl8ETaCND1ceFrCfUPsmkPEbSwluriCWWS22QpE6FstGWXcM5rb%2BFH7GJ%2BEfxs8c/G7Sf2mPiJqdz8QNWnv8AXNH1mHQpbePKGO1t4Z00xLxLe0jO23hNwyJ8zMJGklZ/Vv8AhD9J/wCfvVf/AAeXf/x2j/hD9J/5%2B9V/8Hl3/wDHaAPDPGX/AATv0D4h/DLxz4H8b/tOfFHUNb%2BItlp2m%2BJ/H/2nRoNXm0mylkli0pFh01LKO0Y3F2siC23SLeThnO/I6bVP2VPGl/8ADDSPhdp/7ZfxP0mDTLa5tLjUtG0/wzbXF/aSqipbuqaN5ECQomyJraKCRQxy7HBHpv8Awh%2Bk/wDP3qv/AIPLv/47R/wh%2Bk/8/eq/%2BDy7/wDjtAHk2p/sNeC9RtfB/gmP4t%2BNLX4eeB20B9D%2BFtrLpw0cPo0kEunNJMbI6g4jmtbaUp9rEbtCu5WUurU9O/4Jsfsg%2BD/jg/7R3we%2BD/h7wB4z/wCET1TRLbXPBPhLSbKa3e/eN5NRUm0bdep5ZVJH3JtllV0cORXsv/CH6T/z96r/AODy7/8AjtH/AAh%2Bk/8AP3qv/g8u/wD47QB4ld/8E9PB%2Brw3/iLxJ8ffiLqfjq88SaZrVv8AEy5n0mPVrCfT4ZoLSOGGHT008QpFdXiGNrRg4u5i%2B5iGVdS/4J%2B6Hd/B%2BX4GaX%2B0v8TtL8PawNYbxxDYXGj%2Bd4sl1W6mub%2BW7ml015Ld5XuJxmxNqI1k2xhAkez2z/hD9J/5%2B9V/8Hl3/wDHaP8AhD9J/wCfvVf/AAeXf/x2gDmdL/Z58AaR8arf45Wz3rahYeBE8JaPpkkqGy03T/tP2iYwps3iSdktVlLOylbG3AVSrF%2BP%2BDX/AATx/Y5/Z3%2BPeoftFfAj9n/wl4N1zUfCdt4fe38LeFNP062htoriedpI1t7dHWWUzKsjbyHS3gG0eXk%2Brf8ACH6T/wA/eq/%2BDy7/APjtH/CH6T/z96r/AODy7/8AjtACeOf%2BRJ1j/sF3H/otq8u8cf8AKQv4X/8AZGfHn/p28IV6ifBmhvhZ2vpkyCYrjVrmRG9mVpCrD2IIry7xx/ykL%2BF//ZGfHn/p28IUAezUUUUAFeYftbfGTxl8GPhhYX3w1s9Ml8S%2BJPGGi%2BGtAk1uCSWytbjUL%2BG2N1PHFJG8scMckk3lLJGZTEIw8e/evp9cb8ePgl4a/aB%2BHUvw78Taxqel7dSsdT0vWtEmjjvdL1Cyuoru0u4Gljkj3xzwxttkR43AKOjozKQDxO//AGx/jP4Z/ZD%2BInxI13w94evfHPw38bzeFtbvrDTbpNGAW%2Btov7Za286SdLWGyu476eATMyCGaMTHAlrzR/8AgpD8cvF3w/jl%2BEHifwj4nfQPjy/gjxp8TfBnwi17xRoz6QfCUuvRara6Vpd%2B9yENxLYWDS/apoldpHyVdNv0n8Of2WB8Kfh7q3gbwX8evHEF1rkl5e6l4mlXSZdQm1a6unuJ9VJewMPnkuIxF5X2VIoo0SBQtUNI/Y/vPCnge88OeAf2ofiPoOu614km1zxb46so9Dn1XxDeSQR2%2B65F1pktoirBBbRItvbwiNLaJVwoIIB2Xhn40fDofAbSfjr4p%2BMXhabw3P4dtdTu/HEVwlho9xDJEjfbEaaZxBA5YMoeVyoYKXYjJ8%2B/4J0%2BJ/DXjX9m6%2B8YeDfENjq%2Bkap8W/iHd6ZqmmXaXFtdwSeM9aaOWKVCVkRlIYMpIIIINenfBr4S%2BDPgN8KPD3wZ%2BHlrPDonhnSYdP01bu5aaYxxqFDSSN80kjYLMx5ZiT3rz/8AYP8A%2BSIa5/2Wb4j/APqa63QB7NRRRQAUUUUAFFeXftXftj/s/wD7Fvw5k%2BJPx68bR6dAwZdN0u3AlvtTlA/1VvDkGRuRljhFyC7KOa%2BYrD9pn/gql%2B3haA/sqfArT/gb4HvBmL4gfEkefqt1FuUiS1sthClkORujkjb%2BGZTXmYvNsLha3sFedTfkguaXq%2BkV5ycV6nJUxtGFRwipTkrXUIuVr7czVoxv0UpJtapNan3NquraVoWnTaxrep29naW6F7i6upljjiUdWZmICj3NfLn7QH/BaT/gnn%2Bz959jffG2LxZqcOf%2BJV4Gg/tJmI6jz1Itwc8YaUGvPU/4IbeG/itfxa7%2B2r%2B2d8U/ixeRSmRbW51X7FYKT2WBjM0Y9o5EFfRPwI/4J8fsWfs1eRcfB39nHwzpt7b48rV7my%2B2Xyn1FzcmSUevDAVySq8RYrSnThRXeb55f%2BAwtH75M6KWM0vDCtvvVqKMf/AKKnN%2Bjqx9ep8xaZ/wU1/4KL/tUr5f7D3/AATovNP0qcj7P4y%2BJ961vaPGf%2BWix5gV8f8ATOWX6Hoec8Z/8E8f%2BCzP7UztH%2B0f/wAFAtD8LaTc5Emh%2BCPtKxJGf4Hjt47USgejyP25r9JKKmWQPFRtjcTUqeSl7OP/AIDC2nrJm2HxudYat7WjipUZf9OYwpW9JONWrf8Ave1jLzXT4B%2BCn/But%2Bxd4EZNS%2BMnifxV8Qb4j/SUu9QOm2cpzkny7UibJPXdO1e6eGf%2BCSn/AATg8Jbf7K/ZG8Ky7en9pxzXv5/aJHz%2BNfRVFdOHyDJMLHlp4eC9Ypv75XZwYvL8JmOKeKxsfb1XvUquVao/WdWVWb9Oay6JHnHhn9jv9kjwXtPhD9l34d6WV6PYeC7GJvrlYgSfeu90nQ9E0C1FloWj2tlCOkNpbrGv5KAKtUV6VOhQor93BR9El%2BSRtSw%2BHoK1KEY%2BiS/JIKKKK1NgooooAKKKKACiiigAooooAKKKKACiiigAooooAKKKKACiiigAooooAK8Z/Zf/AOS3/tHf9lmsf/UK8L17NXjP7L//ACW/9o7/ALLNY/8AqFeF6APZqKKKACiiigAooooAKKKKACiiigAooooAKKKKACiiigAooooAKKKKAOW%2BNvgix%2BI3wo13wbqWv69pcF3YkvfeGdfutLvo9hEg8q6tJI5oSSgUtG6sVLDIzXgXw8k/aF%2BLv/BH34d6h8M/G2p3PxA1/wCDHhW7l1i411odQ1KSSyspb0LfSkmK7uIjOiXLNlJplkLAjcPo34g/Dr4ffFrwdffDv4qeBNG8TeH9UjWPUtC8QaXFe2d2gYOFlhmVkkAZVYBgeVB6iuW8Lfsj/speB/BFz8MvBX7Mfw90fw3e6bNp154f0vwXY29jPZyvvltngjiEbRO3zNGVKseSCaAPKv8AgnB44%2BIXiOT4xeCfFPh7xXpeh%2BDviiuleEdP8ceLxr2q2Vs2h6VdT2txf/arv7QyXdzct/x8z%2BWJBDvHlbE%2BY/8AguD4i8WeLrjUdLufhF4h0JPCvwh8Q3mj%2BINVudOe01jZ4r8DM8lqttdyzoEVTn7RFAfnG0N82P0a%2BH3w4%2BHnwl8I2nw/%2BFXgPRfDOg6erLYaJ4f0uGys7YMxdhHDCqomWZmOAMkk96%2BOP%2BCv3h//AISVNQ07Zu8v9mD4kXeMf88NU8Hz5/Dy815ucQ9plGIj3hP/ANJf%2BR9p4b4pYLxDyeu9o4rDt%2Bntqaf4SPtjSNSg1nSbXWLU5iu7dJo%2Bf4WUMP0NWK4X9l/xB/wln7NHw78U7939p%2BBdIu92evmWUT5/Wu6ruoz9rRjPuk/vSf6ny%2BY4V4HMK2Ge9Oc4f%2BAznH/20KKKK0OMKKKKACiiigAooooAKKKKACiiigAooooAKKKKACiiigAooooAKKKKACiiigAooooAKKKKACiiigAooooAKKKKACvGfHH/ACkL%2BF//AGRnx5/6dvCFezV4z44/5SF/C/8A7Iz48/8ATt4QoA9mooooAKKKKACiiigArxn9g/8A5Ihrn/ZZviP/AOprrdezV4z%2Bwf8A8kQ1z/ss3xH/APU11ugD2aiiigArx79vX9qfTf2M/wBlLxb8fblIJb/TLHydAs7jlbrUZiI7eMqCCyh2DuAQfLRyOlew1%2BfH7cmoD9uX/gp/8Kv2BNNYXfhP4cuPGvxMhXDRPIiq0FvKvpseKP6aifSvKznF1cJgX7H%2BJNqEP8UtE/8At1Xk/KJzYlVqqjh6MuWdR8qe/Lo3Kdv%2BncIzn2vGKfxHQfsQ/wDBMvWPF/ibTP25P%2BCh/iif4h/FPWLSC/0zRtXi/wCJf4YV1EkcK25AQzR7vuhRHE%2BdillEp%2B56KK3wGX4bLqHs6S31bespPrKTerb9dNlZHX%2B7p01SoxUKcb2iul923vKUrJznJuU3q3tGBRRRXcSFFFFABRRRQAUUUUAFFFFABRRRQAUUUUAFFFFABRRRQAUUUUAFFFFABRRRQAUUUUAFFFFABRRRQAV4z%2By//wAlv/aO/wCyzWP/AKhXhevZq8Z/Zf8A%2BS3/ALR3/ZZrH/1CvC9AHs1FFFABRRRQAUUUUAFFFFABRRRQAUUUUAFFFFABRRRQAUUUUAFFFFABRRRQAV8rft5%2BH/8AhLPi2PCwTd/aX7K3xWtQuOvmXHhZP619U14X8YdFj8Sfty%2BAPDs2Nl/8CviFbPnph9T8Iqf51lXp%2B1oTh3TX3pr9TvyvFvAZph8V/wA%2B6lOf/gE4T/8AbR//AATQ1/8A4SX/AIJ%2BfBzUd%2B7y/h7plrnP/PCBYMf%2BQ69xr5Z/4Ira1Jrf/BMv4YSXGRLaW2pWcqN1Qw6ndxAH8FH519TVx5RU9rlOHn3hD/0lf5H0XiLhPqPiDm%2BH/kxWIX/lao//AG4KKKK9E%2BOCiiigAooooAKKKKACiiigAooooAKKKKACiiigAooooAKKKKACiiigAooooAKKKKACiiigAooooAKKKKACiiigArxnxx/ykL%2BF/wD2Rnx5/wCnbwhXs1eM%2BOP%2BUhfwv/7Iz48/9O3hCgD2aiiigAoor5%2B/4KXHTB%2BzXa/8Jp5f/CFf8LC8L/8ACyPtH/Hv/wAI9/bNp9t%2B1Z4%2Bx%2BX/AMfO7939m8/zP3e%2BgD6Bor4L8EWnwv8AH37AXxa%2BF/w/%2BMvgrwt4Ej8d6lq3gJtW1qO10Q%2BEYdYikeJ2Rv3Oh3U8GoWYmjBhFrMfKDRhFPk3w6l%2BGF3pemar%2B07oHwt0n9mG8/aG1iTRdN0u9jufAEFsPB9qlsI57iCC3n086umrskrwxwPfsrRruNuSAfqbXjP7B/8AyRDXP%2ByzfEf/ANTXW6zP2Ibv4xWX/BPb4eXlroI1TxOngq2Oj6f4z1a4sGnt8f6Gt5cfZ7ieKT7N5O9mhkk353ru3VL/AME6bjxLd/s3X114y0mxsNXk%2BLfxDbU7HTNRe7trec%2BM9a8yOKd4YWmQNkB2ijLAAlFzgAHulFFFAGH8T/HukfCr4a%2BIfihr6sbDw3od3ql6FYAmG3heZ8E8D5UNfD3/AAQl%2BGvizxt4P%2BIf/BQP4sw7/E/xi8VXEtpKwJEenwzPkR55VDOZEC9NttFivZf%2BCxHxGf4Y/wDBNn4qa1BMFm1DQ49IjXdguL25itHA/wC2czn6A16T%2BxP8O2%2BE37H3ww%2BHM1qIZ9J8B6VBexgY/wBI%2ByxmY/jIXP414NaH1riKnGW1Gm52/vTlyJ/KKlb1M8LW5cbXla7jTjBP%2BV1ZuU2vOVOjGF%2BkXJfaZ6fRRRXvGgUUUUAFFFFABRRRQAUUUUAFFFFABRRRQAUUUUAFFFFABRRRQAUUUUAFFFFABRRRQAUUUUAFFFFABRRRQAV4z%2By//wAlv/aO/wCyzWP/AKhXhevZq8Z/Zf8A%2BS3/ALR3/ZZrH/1CvC9AHs1FFFABRRRQAUUUUAFFFFABRRRQAUUUUAFFFFABRRRQAUUUUAFFFFAGB8Uvib4S%2BDfgLUfiX46fUl0rSo0e7OkaFd6nckM6xqI7WzilnmYsyjbHGx5zjAJrHP7RvwXT9n21/anl8bxp4DvvDNt4gtNdks5183T7iFJoJFhKecXkSRNsWzzSzhAm47a1Pi5rXiDw/wDDTWtV8K/DzV/FeopYstp4e0G4soru8Z8Jtje%2BuLe3UgMWPmSoMKcEnCn5V8NfCb9pHxd/wSP0D9knWf2Ytb0Pxho/wj0TQNU0jxFrOiOl3LYx2lvdwWtxaX1xHHcSxQzPazvtSNzC7mNlKgA%2BnPgv8evhj%2B0Boupa58MtV1CUaLqzaXrVhrPh%2B90q%2B068EMU/kXFnfQw3EDmGeCVRJGu6OaN1yrqTxXjj/lIX8L/%2ByM%2BPP/Tt4QrB/wCCfPwa8d/CDRviNN4m8AeI/C2keJ/iCdX8MaJ458Ux674gitv7K0%2B2lfUdRS7vGuXa4tpzF5l1cPHbiCPzFREghZf%2BC/Enh7/gpt4L8Rat8XPEOu2erfB7xw9hoOq22nJaaKF1bwllLZra0incPuGftEs5%2BQbSvzZAOS/4Izf8Sz9lLXfAvT/hF/it4m0rZ/c2XzSY/wDIv619aV8l/wDBK/8A4kuv/tJ%2BBW4/s79pXxFcwp/chuVt5EH04NfWleTkemU0Y9k1/wCAynH9D9A8VPe8Qswq/wDPycKn/g2jh6v51GFFFFesfn4UUUUAFFFFABRRRQAUUUUAFFFFABRRRQAUUUUAFFFFABRRRQAUUUUAFFFFABRRRQAUUUUAFFFFABRRRQAUUUUAFeM%2BOP8AlIX8L/8AsjPjz/07eEK9mrxnxx/ykL%2BF/wD2Rnx5/wCnbwhQB7NRRRQAUUUUAFFFFABXjP7B/wDyRDXP%2ByzfEf8A9TXW69mrxn9g/wD5Ihrn/ZZviP8A%2BprrdAHs1FFFAHwt/wAF3nl8b/Br4U/s1afcstz8SfjLpGmPEp5kt8SKw/CWW3NfdEcccMaxRIFVQAqqMAAdhXwn%2B3GYfi1/wWD/AGWvghIheLwxZ6t4tu1xkJhGeFz/ANtdOAB9W96%2B7a8PLv3ua4yt2lCC/wC3IXf4zObBq8K1T%2Baq18qcKcP/AEqU/mrhRRRXuHSFFFFABRRRQAUUUUAFFFFABRRRQAUUUUAFFFFABRRRQAUUUUAFFFFABRRRQAUUUUAFFFFABRRRQAUUUUAFeM/sv/8AJb/2jv8Ass1j/wCoV4Xr2avGf2X/APkt/wC0d/2Wax/9QrwvQB7NRRRQAUUUUAFFFFABRRRQAUUUUAFFFFABRRRQAUUUUAFFFFABRRRQAUUUUAFfK37TXxkg%2BFf/AAVX/Zj8OajIEtPHHgD4i6C0jnCpN53hm7h/FmtPLHvJX1TX54f8FvtC8Q2nxV%2BEvx48HRSSax8IPCXiTxvp8MbEGX7JrvhCOVT/ALPkzysQeCFNcOZVqmGwNStDeC5vkmm//JeY83N8RVweW1cRT1cFzfKLi5f%2BSqR63%2Bwh/wASP9ur9rXwL937P410DVdnp9t0wyZ/HZX1pXx5%2Byl4m0bU/wDgqf8AHPWvDl2JtP8AHPw38G%2BIrCZek8KWrwpIP%2BAuPzr7DrmyVp4OSXSdRfL2kmvwkj9R8SZKtn9DEx1VXCYGd%2B98JRi399NhRRRXrnwAUUUUAFFFFABRRRQAUUUUAFFFFABRRRQAUUUUAFFFFABRRRQAUUUUAFFFFABRRRQAUUUUAFFFFABRRRQAUUUUAFeM%2BOP%2BUhfwv/7Iz48/9O3hCvZq8Z8cf8pC/hf/ANkZ8ef%2BnbwhQB7NRRRQAUUV5/8AtL/HG5%2BAPw1i8WaL4RXxBrWq%2BIdL0Hw3ocmo/Y473UdQvYrSBZZ/LkMEKtL5ksgjkZYo3KpIwVGAPQKK%2Bfrz9uS%2B0D9kzx5%2B0L4s%2BEYtvEHw31e/0jxX4Us9dM9rbXtrcLE0ovjbofsPlSRXbXLQK0duzO0IZGjryy//AOCugh%2BFvhnx9aeEPhTHH4j%2BLd74Hh8Vap8b/s3gyf7Pos%2BqHULPXBpb/a4i0DWWPs0eLtJo9x8vc4B9qV4z%2Bwf/AMkQ1z/ss3xH/wDU11uvWfDWoX%2BreHNP1XVYbKO6ubKKW5j02%2BN1bLIyAsIpikZmjBJ2yFELDB2rnA8m/YP/AOSIa5/2Wb4j/wDqa63QB7NRRRQB8I/B15Pi5/wXv%2BKfiuVRPZfDT4U2OiWkoORHcXJtp8D0x512p9wa%2B7q%2BDv8Agjbn4k/G/wDal/ac8wzQeKfi/LpmnTnnFvZtO8ag/wDXK7hB/wB0V9414fD3v4CVf/n5UqT%2BTm0vwijDBK2XUH/NFz/8GTqVP/SXD1VmFFFFe4bhRRRQAUUUUAFFFFABRRRQAUUUUAFFFFABRRRQAUUUUAFFFFABRRRQAUUUUAFFFFABRRRQAUUUUAFFFFABXjP7L/8AyW/9o7/ss1j/AOoV4Xr2avGf2X/%2BS3/tHf8AZZrH/wBQrwvQB7NRRRQAUUUUAFFFFABRRRQAUUUUAFFFFABRRRQAUUUUAFFFFABRRRQAUVzXxik%2BJsPwy1if4Oa1oOneJYrXfpl74m0qa%2BsYirAuZYIJ7eSUeWHwqyx/MVy2M1xv7PnxO%2BLH7RX7FHw%2B%2BNGk6n4d0Hxl44%2BG%2Bi669xcaHPe6ZZ3l5ZQXEoFqLuKWSINI4VPtCsBjLnByAer18%2BftE/D7Q/iz%2B1/4Q%2BFniaPfp3iT9n34j6XfrtzmG41DwlE//jrmtX9hL4w/HH44fDvxV4y%2BNGs%2BFNUgs/iLrOi%2BEdY8I%2BGrnSoNS07T5hYyXLwXF9eMGa9t77Y6y7XhWFgPmJONf/Fz4UeOf%2BCm3gvwF4J%2BJ3h7WNd8MfB7xxF4l0XStaguLvSXk1bwl5a3MMbl4C2x8BwpO046GplGM4uMldPR/PQmcI1IOEldNNP0ej/BnxD%2Bxr8U/FH7L%2Bs/C79qH4iyh9E0mO5%2BBHxkZ%2Bnh67sL5m0y8J6rH5bQRSFsBVXuWUV%2BsoIIyDkHoa%2BFdD%2BDfgS6/bo/aN/YS%2BKdhnwl8c/Cdn410KAgDFxg2t/JETwZxcqk6918lWwcZr0j/gmV8afHNx4T8Q/safH3UPM%2BJHwWvU0bUbiQkHWNJK50/Uk3csskIVSSScqrNgyYr5TIZywE/qs37snJJ9qkNJL/ALfgoVF58yPsMub4t8NaGJWuMyhLC111nhozlDD1rd6TkqFR/wAtShN9WfUVFFFfWnyIUUUUAFFFFABRRRQAUUUUAFFFFABRRRQAUUUUAFFFFABRRRQAUUUUAFFFFABRRRQAUUUUAFFFFABRRRQAUUUUAFeM%2BOP%2BUhfwv/7Iz48/9O3hCvZq8Z8cf8pC/hf/ANkZ8ef%2BnbwhQB7NRRRQAV59%2B0v8Drr4/fDWLwnovi9fD%2BtaV4h0vXvDeuSad9sjs9R0%2B9iu4Glt/MjM8LNF5UsYkjZopHCvGxV19BooA%2BcJf2FvHGq/s/8Ai34O%2BIvjtYTar4z8Rf8ACUaz4js/BzxK%2BvDVIr5G%2BzPeuraaEtrW0NkzF3gicPcsZCwteEP2Vf2kPh9oXi/VPCP7QngI%2BL/iF41l8Q%2BMdS1X4S3NxpLE6XZaakNlp6axG9viGwhZ3lubjzHeYkAMqp9C0UAec/Cf9mH4ZfDb9lvwx%2ByRr2k2/i7wr4c8I2Ph6W18T6fDcx6lbW0CRAzwsnlMG2A7AuwcAAAADkf%2BCdPhjw14K/ZuvvB/g3w9Y6RpGl/Fv4h2mmaXplolvbWkEfjPWljiiiQBY0VQFCqAAAABXuleM/sH/wDJENc/7LN8R/8A1NdboA9mrx39ub9rrwn%2Bxn8BL/4m6vC19rd4407wd4fgOZ9X1WUEQQIOTjPzOcHCK3BOFPrmoX9npVhPqmo3Cw29tC0s8r9ERQSzH2ABNfj18TfEPxO/4KyftWeHotHuLnT7LxfDd2/gSwPLeFPBUcxh1HXZ06LeXzI1vErdFDKesEleDn2Z1MBhlToK9appFfhf5NpLu/JSOrK8pxvEedUcnwk1TlUUpzqyV4YehTXNXxE%2B6pQ%2BGO9SrKlTWsz6/wD%2BCCXw/k8F/wDBN/w3r11GRc%2BLNd1TWbkv952Ny1srH1ylshz6EV9mVifDf4d%2BD/hH4A0b4YfD7RYtO0TQNNisdLsoRxFDGoVRnqTgZLHkkknJJrbr0Mswn1DLqOG35IpfNLX8bl5k8tePqLLoShh4vlpRk7yVKKUKak%2BslCEeZ9ZOXkFFFFdxxBRRRQAUUUUAFFFFABRRRQAUUUUAFFFFABRRRQAUUUUAFFFFABRRRQAUUUUAFFFFABRRRQAUUUUAFFFFABXjP7L/APyW/wDaO/7LNY/%2BoV4Xr2avGf2X/wDkt/7R3/ZZrH/1CvC9AHs1FFFABRRRQAUUUUAFFFFABRRRQAUUUUAFFFFABRRRQAUUUUAFFFFAGF8TPB2qfEHwHqfgvRviDrPhW41G38lPEHh%2BGzkvLMEgs0S3tvcW5JAKnzIXGGOADgjif2cv2Yrr9m34MaF8C9C/aC8ceINH8M%2BFYtA0KfxFDo/2i0toY1it3D2mnwB5IokWNS6sGC5dXbLH1OigDlPgX8HPB37PPwZ8LfAv4fi6Oi%2BEdBtdJ06S%2BmElxNHBEsYlmcAeZM%2B0u74G52Zu9cJ44/5SF/C//sjPjz/07eEK9mrxnxx/ykL%2BF/8A2Rnx5/6dvCFAHlf/AAVY0fVPhPZfDj/goB4PsZJNS%2BC/i6ObX47ZcyXXh2%2BK2t/FgfeIDRsM5Cje3rWf%2B17q%2BlfAD9sr4I/t/eF76J/C/i5V8AeO7%2B3b91LYX/7/AE27ZhwEScbmkP8ADsXIyK%2Br/iT8P/DPxY%2BHmu/C/wAaWIudI8RaRcabqcH9%2BCaNo3A9DtY4PY818Rfsz/DjVv2rP%2BCb3xL/AOCb/wAWLxJPGvwsu7zwd9on4y1q3n6NfDPIiISFVOcssDetfMZnh6kMXONLeolOH/X2lrb/ALfho%2B9mepwDm%2BD4Z8Q6axztg8dCVGt/hnH2VV27qnKnWj/ewy6n3xRXh3/BOX9ojUf2mv2QfCfj/wAUGRfEtjbNovjC3nGJYdVs28i48wfws5QS47CUV7jX0GGxFPF4eFan8Mkmvmv6T80wzvKMZw/nOJyzFq1WhOVOXa8ZNXXdNWlF9Yyi%2BoUUUVueWFFFFABRRRQAUUUUAFFFFABRRRQAUUUUAFFFFABRRRQAUUUUAFFFFABRRRQAUUUUAFFFFABRRRQAUUUUAFeM%2BOP%2BUhfwv/7Iz48/9O3hCvZq8Z8cf8pC/hf/ANkZ8ef%2BnbwhQB7NRRRQAUUUUAFFFFABXjP7B/8AyRDXP%2ByzfEf/ANTXW69mrxn9g/8A5Ihrn/ZZviP/AOprrdADv%2BChnxF/4VR%2Bw18WPHKT%2BVNbeBNRhs5M423E8DQQn/v5IleC/wDBCf8AZd0z4T/si6Z8fvEMpvfFnxGsIJp7yZButNLtwYbK0jPZPLTzSRjc0gznYppf%2BDgv4if8IT/wTj1fw4k%2Bx/FvijS9JUA4LBZTekflaHPtX1N%2BzR8O/wDhUf7OngL4WGDy28OeDdM02RMc74bWONifcspJ9zXzns4YripuSv7GkreUqknr68sdPVndleLxGEwuYzpS5faqhh5W6wTqYqcb72clQckvi5Yp3SSO3ooor6M4QooooAKKKKACiiigAooooAKKKKACiiigAooooAKKKKACiiigAooooAKKKKACiiigAooooAKKKKACiiigAooooAK8Z/Zf/wCS3/tHf9lmsf8A1CvC9ezV4z%2By/wD8lv8A2jv%2ByzWP/qFeF6APZqKKKACiiigAooooAKKKKACiiigAooooAKKKKACiiigAooooAKKKKACiiigArxnxx/ykL%2BF//ZGfHn/p28IV7NXjPjj/AJSF/C//ALIz48/9O3hCgD2avjn9sbwb8S/2Mv2gLj/gpT8DNEudc0G/0620/wCOngu0jDTXmm242w6tbDvPbJwwJwYx/CvmMPsamzQxXETQTxK6OpV0dchgeCCD1FceNwixlHlvyyTvGS3jJbPz6prZptPfTgzHAxx%2BH5FJxnFqUJLeMls/NatNPSUW099Pgbwl8dNF/YY%2BM3iT9qHRdPk8Rfsy/HnU7TxFH4y8OBp18JaxNGI7ia6gVd6w3EmC7gZjdAhG8bT92%2BGvE3h3xn4fsvFnhHXbTU9L1G2S40/UbC4WWG5icZV0dSQykHIIOK%2BLvAng7Q/2Bv23B%2Byvc2ccvwM%2BP1pez%2BFtC1GJZbLRPEKjN1pyKwKrbXMTZWI8F2VFXhib/wCzZ4Ts/wBhf/gojqn7Hng3Ub%2B2%2BGPxI8FSeJ/AWg3d401vpGrW9wy31na78siNG3nlckDArwsuxVfBT9nUS5HNwkv%2Bfc5XkrPrTm3eN7SjzW1W36bgcxwvidkdeviIexzjA0v3truniaWHhTi52fvQrQo%2BznzK8K9KDclCtTk5/aFFFFfUnwIUUUUAFFFFABRRRQAUUUUAFFFFABRRRQAUUUUAFFFFABRRRQAUUUUAFFFFABRRRQAUUUUAFFFFABRRRQAV4z44/wCUhfwv/wCyM%2BPP/Tt4Qr2avGfHH/KQv4X/APZGfHn/AKdvCFAHs1FFFABXiH7f3iTxFoXwT0bSNE8V6loFp4k%2BJfhXw/r%2BuaPqElndWenX2tWltcCK5iZXtnmWT7MJkZXj%2B0bkZHCsPb6zfGPgzwf8RPC1/wCB/iB4U03XdE1S2a31PR9YsY7q1vIWGGjlikBSRCOqsCDQB8Z%2BI/iZ8RvCv/BPn4zaN4a%2BLuvmXwx8Vb7wd4C8Vahr1xPfXEMms2tpDaS6lJIZ0CXFzLpzX7O01ukRmZnkhLHifhJqnxR8WfEyz/ZC%2BN3xU8Y%2BHdJg%2BNXiKx1208P/ABf1m8ks2t/CmnanY6PbeJXeDUryFkvJ9RfzfJlWSKS3KG3gHmfcem/s7fs/aN4RbwBpHwL8HWmgvoR0R9EtvDFpHaNphd3NiYVjCG3LSSN5ONmXY4yTWfc/sk/sqXnwpj%2BBF3%2BzL8PZfA8N59rh8GyeDLFtKS43FvOFoYvJEm5idwXOSTnmgDkP2N/jB8SfGH7AHw5%2BNHijQtY8beJL/wAAafezRaY1pDe6%2B7QptuUNzNb26vOm2b5pI0/eHGBgVH/wTp1a/wBe/Zuvtb1XwxfaJc3nxb%2BIc1xo%2BpyQPc2Lt4z1omGVreWWEuhO0mOR0yDtZhgn2%2BysrPTbOLTtOtIoLeCJY4IIYwiRoowqqo4AAAAA4GK8e/YP/wCSIa5/2Wb4j/8Aqa63QB8of8FyD/wtP46fsw/srRfvY/FfxIFzqUHULEs1pbq7D02XFwfohr9Fa/Oj45H/AIXZ/wAHC/wv8GL%2B9sPhx4Ae/vouuy4MN5Mr%2B3zT2f8A3z71%2Bi9fPZN%2B%2BzHHYjvUUF6U4JfnJm1D3cmpv/n5Wrz%2BUXSw8fwpVLerCiiivoTEKKKKACiiigAooooAKKKKACiiigAooooAKKKKACiiigAooooAKKKKACiiigAooooAKKKKACiiigAooooAKKKKACvGf2X/APkt/wC0d/2Wax/9QrwvXs1eM/sv/wDJb/2jv%2ByzWP8A6hXhegD2aiiigAooooAKKKKACiiigAooooAKKKKACiiigAooooAKKKKACiiigDz39q60%2BAd7%2Bzv4rt/2oJPC6%2BBDpudfPjWeCPS9okUxC4a4Ii2mYRgBzgttHOcV8i%2BCvjhp3jb/AIIJ%2BGrH9l/4q6HrvijTv2c9Cjurbw34jWW6tYILG0t9SGbRmmhkijFxGzRjzY5FwoEgAr78ooA%2BY/8AgmH4k%2BHt54G8d%2BCfhF4W%2BFS%2BGPDvjVYNM8XfBPw8umeHPEzS6bZTSXEMKT3CGeJn%2Byyuk8wZrcZZWDxR6t/qXxXu/wDgpt4Ls/G3gvw9p%2BhW/wAHvHA8NajpXiee8u79Dq3hLzGubaSyhS0IwmAk1wG3HJXaN30PXjPjj/lIX8L/APsjPjz/ANO3hCgD2aiiigDw3/goj%2BzLqf7Un7Meq%2BFfBVw1p408P3MPiH4f6nEwWS01qzJltyjH7pf5oi3YSk9hXzB%2B0P8AtJ2Xxn/ZN%2BAf/BUzQrE2mrfCvx5af8J5ZRxkSafbXLjTtZtdv3lzIYtu7nYysRzX6I1%2Bf3xX%2BDmmfBz9q34k/sfa8Etfhp%2B1r4d1C88LzSDEGkeMUgIuEHZTNmOcE9ZFjRRwa%2BZz3DTg3Vp6e0Sg/KafNRl8prkb7TR28KZzh%2BD/ABBy/OcT/utSaoYld6VVSpNv/uHVqQfrDsj7/gnhuoEubaZZI5EDRyIwKspGQQR1BFOr56/4JY/GTVPjT%2Bwz4H1HxPvTX/Dtk/hrxJBOcyxXunubVhJ/tskcch/66V9C172ExMMZhadeO00n962%2BWq%2BR18Q5NiOHc%2BxWVV9Z0Kk6bfR8kmlJeUlyyXlJb7hRRRXQeOFFFFABRRRQAUUUUAFFFFABRRRQAUUUUAFFFFABRRRQAUUUUAFFFFABRRRQAUUUUAFFFFABRRRQAV4z44/5SF/C/wD7Iz48/wDTt4Qr2avGfHH/ACkL%2BF//AGRnx5/6dvCFAHs1FFFABRRRQAUUUUAFeM/sH/8AJENc/wCyzfEf/wBTXW69mrwn9jzxRovgj9mbxf408SXYt9O0j4rfE29v526RwxeMtckdvwVSfwpNqKbeyFKUYxcm7JHy5/wT3P8Awuf/AILTftP/AB4Y%2BdF4ZgTwxFJ1VGWaK2GPw0tx9CfWv0Zr87v%2BDdrSb/xR8HPix%2B0brUBS%2B8dfE2YzM3VxFEs%2Bc9x5l7KPqDX6I18/wunLJ41nvVlOf/gU5NfgkddaE6GCwdCSs40KTa7SqqWIlfzviY3CiiivoTlCiiigAooooAKKKKACiiigAooooAKKKKACiiigAooooAKKKKACiiigAooooAKKKKACiiigAooooAKKKKACiiigArxn9l//AJLf%2B0d/2Wax/wDUK8L17NXjP7L/APyW/wDaO/7LNY/%2BoV4XoA9mooooAKKKKACiiigAooooAKKKKACiiigAooooAKKKKACiiigAooooAKKKKACvGfHH/KQv4X/9kZ8ef%2BnbwhXs1eM%2BOP8AlIX8L/8AsjPjz/07eEKAPZqKKKACvDf%2BCh/7MWp/tSfs1al4a8EXJs/G3hy7h8RfD3VImCyWes2ZMkBVj93f80RJ4Akz2Fe5UVhicPSxeHnRqL3ZJp/13WjXZpM5sZhaOOws8PVV4zTT%2BfVdmnZp9Gk%2Bh%2BY37Bn7bln%2Bzzrer/GP4t%2BFZdJ%2BEvxx8V/2nP4ktQxtvBnjExrDqmn6jGRutkluIy8ch4Eflk8GQxfprZXtnqNnFqGn3cU9vPEskE8MgZJEYZVlYcEEEEEda%2BMvjt%2BwX%2B0H8OPF/j74hfsear4S8S%2BFfiTfPqHxA%2BBnxB04f2Xq106BZ57W5X5reaXbuw2E3kMWIVFX5P8Ah3%2B27%2B0V/wAE7dR/4Vfp%2BnX3hrw/FeP9i%2BDvxwtLmP8As8HlrfR/EUKtBPBnOx7ny41GeGOXb5DC5liOHkqGOi3T1962zu3dNaSjK9%2BW8ZwbcbSjZn3EM9yTjbCUo51iIYDN6cYU5VK8nDCY1U4xpQqKvacKGIcIU1UjVcKVVrmU6c1JS/YGivjD4Q/8Fy/2QPF9laxfGm0134b3tw/lLcavZG/0meXuLfUbISRSp/00OwcGvqj4Z/Gv4O/GjShrnwh%2BKnh3xPaFQxn0DWYbtVH%2B15THafY4INfT4TNMux6/2erGT7X1%2B52f4HJm/B/E%2BRUI4jG4ScaMvhqpc9GXnCtTdWjJdnGq/TodPRRRXefNhRRRQAUUUUAFFFFABRRRQAUUUUAFFFFABRRRQAUUUUAFFFFABRRRQAUUUUAFFFFABRRRQAV4z44/5SF/C/8A7Iz48/8ATt4Qr2avGfHH/KQv4X/9kZ8ef%2BnbwhQB7NRRRQAVx3x4%2BNnhr9n74dS/ETxNpGp6pu1Kx0zTNF0SGOS91TUL26itLS0gWWSOPzJJ5o13SOkaAl3dEVmHY15f%2B1v8G/Gfxn%2BGFhY/DW80yLxN4a8YaL4l0CPW55IrK6uNPv4bk2s8kUcjxJNGkkPmrHIYjIJAkmzYwBN8P/2lLX4pfBvUvin4E%2BEXiy91TR9Uu9K1XwAzadBrNrqNrcGCe0Yy3i2e9SN4cXJikjKvHI4dN3m2l/8ABSfQ9a8N6bqGl/so/FObXNY%2BL%2BofDjTfCKyeHfts%2Bq2OlXmp3cyzHV/sRto47C8hL/ad/nwNH5feup/Zo%2BE/x4%2BEPhTxje%2BMdI8Iy%2BJPGWv6p4puk03xDdSWVtqdw%2ByDT1Z7NHe3jtobRWu9qvI/msLdBtFcNJ%2BxRrHh79jP4ffs8a7%2Bz18JvjRq%2BgzNqnihPihqclpp82v3MdzLqGsW5GmXzedLdXt6wzFGwS6f5wchgD6Y0DUrzWNCstX1HQLvSri6tI5p9Lv3haezdlDNDIYJJIi6ElWMbumQdrMME/nl%2B2D8al%2BDf/BIj4lWNrqaWl/41%2BNnj7wvYSyPhcXfjjW/tGfb7LHc19lfBL4Aax4M/ZM8Lfs4/Ff4havrt9pPhKz0nWvEWla7fafd3UkUSq0kV3DMt3HyuFk83zSoG5ySxP5C/t16nc%2BMNK%2BGn7Bvw31e8lltfit8Q2ij1XULjUJrq51Dx7q%2Bl2azXFxI8s0yxrdSb5HaRtxZiScnwOJ8XLB5HWlH4pLkXrP3fybNMLlE%2BI8xwuSwlyvGVaVDm/ljVmlUn/25RjXqN9FC70TP0j/4IwfCu4%2BFP/BOT4e22oWaw3ev2txr1wqrgFby4kmgIH/XuYPyr6lrM8F%2BE9G8BeDtJ8C%2BHLfytP0XTILCwi/uQwxrGi/gqgVp16mAwqwWBpYdfYjFfclf8bnrcR5nTzriDF4%2BlDkhVqTlGK2jBytCK7KNONOKXRRsFFFFdZ4oUUUUAFFFFABRRRQAUUUUAFFFFABRRRQAUUUUAFFFFABRRRQAVn3vifSLC7ewkNzLLGAZEtbCafZkZAYxowUkc4POK0K8n%2BO37VnwD/Y/8N6l8S/2ivHn/CO6JfeK4NMtb3%2By7q733T6ekqx7LWKRxlIZTuIC/LjOSAc6talQpOpVkoxW7bsl6s7Mvy/H5tjaeDwNKVWtUdowhFylJ6u0YpNt2T0S6Pseif8ACYaT/wA%2Bmq/%2BCO7/APjVH/CYaT/z6ar/AOCO7/8AjVfMH/D8v/glp/0dD/5ZOt//ACFR/wAPy/8Aglp/0dD/AOWTrf8A8hV5v9vZH/0FU/8AwOP%2BZ9p/xCfxR/6EWM/8Jq3/AMgfT/8AwmGk/wDPpqv/AII7v/41R/wmGk/8%2Bmq/%2BCO7/wDjVch%2BzT%2B1Z8A/2wPAt38S/wBnTx5/wkWiWOrSaZdXv9l3VpsukiilaPZdRRucJNEdwBX5sZyCB4X8f/24/wBov9n343/He5/4U94b8T%2BAPhT8INC8VWVpF4tlstWubm6bWQ0SobB4m82SwWP5plESxrIPMMrRxelSrUq9JVKUlKL2ad0/RnxeYZfj8pxtTB46lKlWpu0oTi4yi9HaUWk07NaNdV3PqP8A4TDSf%2BfTVf8AwR3f/wAao/4TDSf%2BfTVf/BHd/wDxqvmf4xf8FGfHH7PXxB8K/D/4t/BLQJLrULvRoPGkPg7xNrWsSeGhqusPp1lLJJHoKWixsPKlJu7mzZiLhIVnMSNNh3n/AAUd%2BL2lSXfh/wCHX7PsPjC9tV%2BKOr30/iPx/Fpot7Dwp4mXSjDE1vpbiR5lnQwoyAoI1SaeRi1wdDjPrT/hMNJ/59NV/wDBHd//ABqj/hMNJ/59NV/8Ed3/APGqofDT4jW/xQ8O2fi7SPDOpWmlalpNlqOl398YAl5FcwLMNixys6lAwVhIqfMfl3jmvmL9kr9ov4/%2BM/iz8OfEnxC%2BKc%2Bt6H8ZvDvi7VI/CMukWMMPhRtN1G0WzjtZYIEnkUW1w8NwbmSYtOI3jMK5iIB9Wf8ACYaT/wA%2Bmq/%2BCO7/APjVH/CYaT/z6ar/AOCO7/8AjVfIvxx/ad/aa%2BDn7Xi2uv3njaPw7e/F3wt4Z8K%2BGLLwLDL4b1Tw9qkFjbXGp3GrfZWkivodRubsCAXUZ8u1i/0Z0d568h0r/gor%2B1z8M/DXjb4yePdc1fVNMk%2BEHjXxR4Qj1vRNLfQ9Zu9O1S0hsLnQTpiLftp8dtc77hNTK3Myy272%2B9RM4AP0Y/4TDSf%2BfTVf/BHd/wDxqj/hMNJ/59NV/wDBHd//ABqvlnw58Xddh/Z3%2BJl38WP2r/jd4M1z4Ug%2BIfG2oeJPDng2LWLLTRpr3KpEtrp91p8lnKiSSocPcrJE0byrtZK808UftO/thfDHwh8NfhV8cviD8T4Nd0r4Fy/EH4w%2BLPh54S8N3GpwSmdFlilS/tltBbWamdZI7W2a8uCITEg2ShwD71svE%2BkX92lhGbmKWQExpdWE0G/AyQpkRQxA5wOcV5T%2By/8A8lv/AGjv%2ByzWP/qFeF69Ku9U07XG8M63pF2lxaXl759rPGcrJG9nOysPYgg15r%2By/wD8lv8A2jv%2ByzWP/qFeF6APZqKKKACiiigAooooAKKKKACiiigAooooAKKKKACiiigAooooAKKKKAOe%2BK/j2%2B%2BGHw81Px5pvw817xXPpsKyJ4e8Mi1N9eZdVKxfa54IQQGLEySooVWOeMHh9W/bF%2BHOlfsUQ/t2jwz4guPCtx8PrbxhBo8Fvb/2o9nPapdRw7HnWET7JFUgzBA2fnx81dx8Vx8QW%2BHOsRfCvw7o2reIJbNo9N0/xBrkum2crsQp825htrp4gFLEFYZMkAYAO4eIfAT4GftDeD/2C/DP7KXxs%2BBfwn8TXXhz4Zaf4YvNGuPHF5eaNrzWkENrsuDNoytHBNDGztmGXYzeXskXL0Ae3fDDxr4l8feFxr/iv4Q%2BIvBF2bh4/wCxPFFzpst0FGMSbtOu7qHa2eB5u7g5UcZ878cf8pC/hf8A9kZ8ef8Ap28IVF%2Bw/wDs7%2BMP2dfCHi7TPE%2Bg%2BF/Ddr4k8ayazoXgHwNfTXOi%2BE7Q2NnbGys5Jbe2JSSa2nvHCW8May3sgVOC74d/8MfDfg7/AIKbeC/Gek6l4hmvPEPwe8cSX8Oq%2BLtRvrSIpq3hLAtrW5nkgsgdxytukYbA3A7VwAfQ9FFFABRRRQAVS8Q%2BGvDni7R5vD3izQLLVLC5XbcWOo2qTwyj0ZHBVh9RV2ik0pKzE0pKzV0fMXxJ/wCCOP8AwTr%2BJN/NrT/s82nh7UJc4vfB%2BpXOlGPPXbFbyLCPp5ZFeBeLf%2BDb39niPU/7e%2BDH7SHxB8K36SGSC4uWtrwwOe6tGkEmPq5PvX6NUV42I4cyLFO9TDxv3S5X/wCSuJjgMPHKa0quXSnhpy3dCpUoN%2BvsalJS/wC3oy9D869N/wCCdP8AwWM%2BBCLH%2Bz5/wVCh8RW8HENp4%2Bs5nUqP4ALhb4KMcYBGOxFben/Gj/gvz8JGEHjf9lD4afEqyh/1t74e1yKyuZAO433KDn0EGa%2B%2BaKyjw/So/wC7V6tPyVRyX3TU/wAzorYnN63x4ucv%2BvipVX99Sip/fNv56nw9pn/BW39onwjM0X7QH/BJ7406FFCP9IvfC2ntrMI9TvMMCY/4GfrWh4c/4L2/sAXl6dO%2BIWpeNvA0y5DxeK/BdwGU%2BhFp55z%2BFfaNMuba2vLd7S8t0likUrJFKgZWB6gg8EVqsFnNL4MWpf46cX%2BMZR/I4JwzSSfLVh5furW/8Bq6/gfNnhn/AILEf8E0vFjiPS/2stBiJ6f2nZXlkPzuIUrtdH/4KE/sIa7tGnftk/DAs33Um8cWMTH/AIC8oNa3in9jH9kDxvI83jD9lf4c6nLJnfNfeCrGSQk997RbgffOa8y8Xf8ABHX/AIJp%2BNdx1b9k/Q7ct30i9vLDB9hbTIBUy/1lgtPYy/8ABkf/AJI3pUMXKVpYiEV50aj/APSK1z2DSP2nP2bNfx/YX7Qnge93fd%2ByeLLOTP8A3zIa6jR/FfhbxCA2geJdPvgehs7xJc/98k18V%2BK/%2BDeb/gnP4i3f2RonjHQt3T%2ByvFDPt%2Bn2lJf1zXnPif8A4Nm/2aLpCngv9ofxxp%2BPuHUrWxuyPqY4oSawljOKKe%2BEpy/w1bf%2BlQPWo5S622Y4ZP8Av08ZD8Y06y/Bn6VUV%2BWX/EOr8V/B7mf4bft73uB/qre98P3dqF/4Hb6h/wCy1R1L/gjv/wAFafC%2BP%2BFXft%2BQWyIeBB8RPEdixHoABMo/HisnnWeU1%2B8y6f8A27OEv8jvhwvmNWVqOOwE/XF1KX/p7Ao/VuivyjX9jL/gu74Ejxp/x78VeIHQcNafGiNw34X1mP1NVJNE/wCDgvwm5%2B3L8SookPyzWeueFtaLD12bUP4GpfE1eH8TA1l/26n%2BRpHgvjCo/wBzSw1T/BmOAd/RTq0W/uR%2Bs9Ffkuvx4/4LY%2BFs/wDCSeKfju6r1jsv2atA1HH/AAKG6UtSf8N//wDBTrw6M%2BIfGPxKstv3v%2BEq/ZUa2x9fs1w%2BPwpf624OPx0KkfWJf%2BofiQ/gyarP/r3WwNX7vZ49t/8AgJ%2BtNFfkt/w9y/bI8PD/AIqD9ov4b2W373/CU/BXxNbY%2Bv2eJ8fhV/Sv%2BC1H7St0Qtp%2B1Z%2ByVcjoRfeGvG9m%2Bf8AtpaqoprjHJ72fMvlH/5YiJ8C%2BJ1OPNLhvMGu8cLKa%2B%2BnUmvxP1aor8ydL/4K/ftTXmNnxq/Y/uc%2BnivWrTP/AIEIuPxrotM/4KnftbX%2BBb%2BM/wBkC5J6KnxtWBj9BLIDW8eKcqntzfcv/kzyq%2BScY4X%2BNkeYR9cFif0pyP0Uor4L03/goR%2B3pq2DpXh39l%2B8z0%2ByfG6F8/k5rdsP2yP%2BCmeoY/s/9nr4F3%2BehsvjFEc/zrojn%2BBn8MZv/txv8pM8itVzHDfxsvxcP8WFrr84I%2B16K%2BQLL9pD/grVqGP7P/Yp%2BF1znobf4rxt/Jatf8Lr/wCCxcv3P2JPhfF/10%2BJLN/JK1WcUHtTqf8AguZwSzujB2lQrJ/9eai/NI%2BtaK%2BSv%2BFu/wDBZSThP2QPhHH7yeP5z/JaP%2BFl/wDBaKXlP2ZvgjF7SeM71v5LT/tel/z5q/8AguX%2BZP8AbtHpQrf%2BCZ/5n1rRXyX/AMLH/wCC0i8n9m74HN7L4wvgf1Wk/wCFv/8ABZWy/eXP7H3wkvVXrFZ/ECaNm%2BhkXA/Gj%2B16XWjV/wDBcv8AMP7do9aFb/wTP/Nn1rRXyV/w1j/wVU0b5NZ/4JQWWpgfen0f436Wg/BJY9xo/wCG6P2%2B4v3F1/wSO8Wic9Fh%2BJWlyR/99hcCj%2B2cGt4zXrSqf/IMP9YMAvijUXrRq/8AyDPrWvGfHH/KQv4X/wDZGfHn/p28IV5gf2xv%2BCneo/Lon/BIe4QHpLqXxv0eIL9V8vJqp8E/iR%2B1x8RP%2BChfgyX9qX9mvSfh0tt8GfGX9gRab4xh1d73dq3hXz/MMSgR7NsOP73mH%2B7WtDMsPiKqpwjO76unOK%2B%2BUUjfDZvhcVWVKnGpd9XSqRXzlKKSPsCiiivQPUCiiigAooooAK/Fj9gr4aal8bf%2BC0ni2bWHlnsfC3xt%2BIOvTWcyZEVtp%2Bu6jBZyRnspv7yYn1ZD0r9p6/Pb/gjJ8NJdQ/ae/at%2BPV7ajyIPjp4q8KaFJsx5axeItTvrwZ77prqJvbFeFnWF%2BuVcJTeyqqT9IxlL9F959hwdRw%2BHr4zOKkrSwmGrOmu9XERWDg15wjXrTXVWutUfoTRRRXunx4UUUUAFFFFABRRRQAUUUUAFFFFABRRRQAUUUUAFFFFABRRRQAUUUUAFZfh//kLa5/2FU/8ASS3rUryf47/tCf8ADNfhrUfHX/Cj/iJ4/wDtfiuGw/sf4aeGf7Vv4d2npJ58kXmJthHlbC%2BeGkjGPm4zq1adCm6k3ZLfd/km/uTMq9elhqMqtR2jHVvV/gk39yZ6xRXyX/w9h/6xqftaf%2BGb/wDuqj/h7D/1jU/a0/8ADN//AHVXnf23lX/Pz/yWf/ys8n/WPJP%2Bf3/klT/5UfWleY/Ff9jr9nz42%2BKtX8ZfEfwjqN3e%2BIPCq%2BG9fSz8ValZW%2BqaYjXDxwXNvbXEcNwY2u7kxySI0kRncoy5q3%2BzR%2B0J/wANKeBLvx1/wo/4ieAPsmryWH9j/Evwz/ZV/Ntiik8%2BOLzH3QnzdgfPLRyDHy8%2BVftC/tl/FD4O/tEr%2BzXpWhaDNrnjabw1/wAKma7tZyL9J7%2BWHXvOVZgZTp9nCb47DGCk8aHkFj6NKrTr01Ug7p7br80n96R61CvSxNGNWm7xlqnqvwaT%2B9I774v/ALDX7Mfx3%2BIC/E34oeAr6%2B1Xdpb3C2vivU7O0vZNNuzd6fJc2ltcx291JbzkvG80bsmcA44q/p37Hv7Oek313qWn/Dvy576w8TWd0/8Aa94d8HiDUU1LV0wZsD7RdokuRgxY2xGNCVr4o/aQ/wCCkvx28SfDL4%2BeCNFkew0HUv2cPil4p%2BFHj3RNKXQ7%2BCXQPLsxLC8es3d1KRJdhlupLbTislqGjjcSfuvYLr9rL48Xv7S/iz9nT4W3ng/Qr%2B4%2BK%2BrWVt4l8aW%2BpalZRWGn%2BFNA1F4Ftvt8O24lk1FiBDJDCkVvPMYZJPMaTQ1PqXwL8N/Cfw202LRvB0F7b2Vvp9pY2tlPq9zcQ28FtEIYUiSaRliwgAYoAXI3OWbmuJ8JfsW/s5%2BA/F3iHx14O8H6np2qeJbLUrS8ubbxbqiixi1C4FzfDTk%2B07NJM9wFnkayEDPMiSMS6Kw5D/gmF8QfiX8T/wBhP4OeO/HmoR6u2tfCvRtQu/EV14hmvb29v5Yd03meZF%2B8Tb5bCcylnLsCi7QzeQ/DX4g/EGf9p7wh8R7j4r%2BJ7jXfFf7SvjbwL4m8HXHiW6k0u08Oadpety2Pl6a0ht7WQDTdJujdJGsr/b2VnZZ0AAPqLU/2ZfhDrnxe0/446/p2t6hr2kyLLpUWo%2BMNTuNNsrhYGtxcxabJcmyjuRE7p9oWES4kf5/mbPOeE/2Bv2TPBd3rM%2BkfCpp4Nc0LUdEudL1fxBqGoWFrpmoSLJfWNnZ3U8lvp9vO6oZIbWOJH8uMEEIuPAP%2BCi2sftR/CX4oah8b/Blp4w1LTbaLwja/Dk%2BHviCunaTp2pvrTw31rqmmfaozqTXyTW1vD%2B4u8nKr9lZTO3aXXwytPEP/AAUvOjeA/id8RrHTfCvw6v8AxB8Qrb/hamu3GnTahrM72mlwJYz3j2cCxRWmrXASOJfKb7IyhQFyAeqaT%2BxF%2BzXpPw58QfCt/Bep6lpPivULS88TPr/i/VNTvdVktjCYEuL27uZLmWJBBEghaUxeWGjKFHdW0/jv%2Byh8CP2lpLOX4xeEry/azsbqwB0/xFf6b9qsbnyzc2Nz9ini%2B12kvlReZaz%2BZC%2BxdyHFeEfs1eGvCfj7Rviz4ut/iv8AEY/s%2B3NhpaeE9d1v4s6899eXOnveS6rrVjqrXn2%2BHTZgbKFNk6xTfYJ5Y1MFwHm7/wD4Jl%2BH/F%2BnfsdeG/GPjjxB4qvbzxtcXviu1tfGPia%2B1a90nT9RuZLrT9Oae/mmn/0ayktoWVnP7yORurGgD2bWbeC0v/D9rawJFFFqTJHHGoVUUWlwAAB0AHavMP2X/wDkt/7R3/ZZrH/1CvC9epeIP%2BQtof8A2FX/APSS4ry39l//AJLf%2B0d/2Wax/wDUK8L0AezUUUUAFFFFABRRRQAUUUUAFFFFABRRRQAUUUUAFFFFABRRRQAUUUUAFFFFABXjPjj/AJSF/C//ALIz48/9O3hCvZq%2BcP2j9X%2BNej/t4fCef4HfD/wt4i1JvhH47W7tPFfjC50WCOD%2B1PCRLpLb6fes77to2GNRgk78gKQD6Porxn/hOP8AgoX/ANGv/Bn/AMPxq3/zL0f8Jx/wUL/6Nf8Agz/4fjVv/mXoA9morxn/AITj/goX/wBGv/Bn/wAPxq3/AMy9H/Ccf8FC/wDo1/4M/wDh%2BNW/%2BZegD2aivnHSf2jv27dY%2BM%2Bv/A63/ZQ%2BEi6p4d8L6Rrt5cv8ddU8iSDUbnUreFEI8Mbi6tpc5YFQAHjwWJYL1H/Ccf8ABQv/AKNf%2BDP/AIfjVv8A5l6APZqK8Z/4Tj/goX/0a/8ABn/w/Grf/MvR/wAJx/wUL/6Nf%2BDP/h%2BNW/8AmXoA9morxn/hOP8AgoX/ANGv/Bn/AMPxq3/zL1y/gH9o79u34ieK/G/hDR/2UPhJDceA/FEWharJc/HXVAk88mlafqYeLb4YJKeTqMKksFO9HGMAMwB9HUV4z/wnH/BQv/o1/wCDP/h%2BNW/%2BZej/AITj/goX/wBGv/Bn/wAPxq3/AMy9AHs1FeM/8Jx/wUL/AOjX/gz/AOH41b/5l6P%2BE4/4KF/9Gv8AwZ/8Pxq3/wAy9AHs1FfOPwi/aO/bt%2BMvhS78X%2BHP2UPhJbW9n4o1vQpI73466ormfS9VutMncbfDDDY01pIyHOSjKSFOVHUf8Jx/wUL/AOjX/gz/AOH41b/5l6APZqK8Z/4Tj/goX/0a/wDBn/w/Grf/ADL0f8Jx/wAFC/8Ao1/4M/8Ah%2BNW/wDmXoA9morxn/hOP%2BChf/Rr/wAGf/D8at/8y9cv8Ef2jv27fjx8GPCHxx8K/sofCS10vxn4X0/XdNttQ%2BOuqLPDBd20dxGkgTwwyhwsgDBWYZBwSOaAPo6ivGf%2BE4/4KF/9Gv8AwZ/8Pxq3/wAy9H/Ccf8ABQv/AKNf%2BDP/AIfjVv8A5l6APZqo6r4X8Na8CuueHbG9B6i7tEkz/wB9A15P/wAJx/wUL/6Nf%2BDP/h%2BNW/8AmXrl/jd%2B0d%2B3b8B/gx4v%2BOPir9lD4SXWl%2BDPC%2Boa7qVtp/x11Rp5oLS2kuJEjD%2BGFUuVjIUMyjJGSBzSaTVmXCpUpy5oNp902vyaPW9U/Zy/Z61zP9tfAjwZeZ6/avC9pJn/AL6jNc7qf7Cv7Eus5Oq/sffC6dj/AByeAdOLfn5Oazv%2BE4/4KF/9Gv8AwZ/8Pxq3/wAy9H/Ccf8ABQv/AKNf%2BDP/AIfjVv8A5l6wlg8JP4qcX6xi/wA4nq0OIuIcL/BxtaH%2BGtWj%2BVVFDUv%2BCY//AAT41XP2r9jvwCuf%2Bfbw9FD/AOiwtYd//wAEg/8AgmzqWftH7Jfh1c/8%2B891F/6BKK6v/hOP%2BChf/Rr/AMGf/D8at/8AMvR/wnH/AAUL/wCjX/gz/wCH41b/AOZeueWU5VP4sPB/9uR/%2BRPXo%2BIPHuH/AIWbYqPpiK//AMtZ55e/8ES/%2BCX%2BoZ8/9lm1XP8Azw8UatF/6Bdiqv8Aw4//AOCbMH/IL%2BCWqWPp9k8d6wMfndGul%2BLv7R37dvwa8KWni/xH%2Byh8JLm3vPFGiaFHHZfHXVGcT6pqtrpkDnd4YUbFmu42c5yEViAxwp6j/hOP%2BChf/Rr/AMGf/D8at/8AMvWTyLJH/wAw1P8A8Aj/AJHfHxV8ToKyzvF288RVf5yZ5l/w5X/Yig/5BVv48sfT7J8RdSGPzlNH/Dm39mOHjT/ij8X7QdhbfE69GPzJr03/AITj/goX/wBGv/Bn/wAPxq3/AMy9H/Ccf8FC/wDo1/4M/wDh%2BNW/%2BZel/YWTdKEfut%2BTRX/EVvEl/Fm1d%2BslL/0qnI8y/wCHPfwPj/49P2j/AI72/p5PxUuRj81NH/Dof4bJ/wAev7Yv7RkH/XH4szD%2BcRr03/hOP%2BChf/Rr/wAGf/D8at/8y9cv4%2B/aO/bt%2BHfivwR4Q1j9lD4STXHjzxRLoWlSW3x11QpBPHpWoamXl3eGAQnk6dMoKhjvdBjBLKf2FlH/AD5X3y/%2BTD/iKniJ1zKb9Y0X%2BeGZzX/DpHwon/Hv%2B3f%2B05F/1z%2BLrj%2BcFH/DpnTF/wBR/wAFEP2qYvTy/jCR/O2r03/hOP8AgoX/ANGv/Bn/AMPxq3/zL0f8Jx/wUL/6Nf8Agz/4fjVv/mXo/sPKf%2BfX/k0//lgf8RT8QOuPf/grDP8APCM8x/4dSXUf/Hv/AMFLP2rV/wCunxcDf%2B21U/gr%2Bytf/szf8FC/Bgvf2mfij8RRrfwZ8ZbP%2BFleJxqR0/ydW8K5%2Bz4jTy/M80b%2Bu7yo%2BmOfWv8AhOP%2BChf/AEa/8Gf/AA/Grf8AzL1Q8D%2BB/wBqzxj%2B1Z4c%2BN3xu%2BHHw98M6N4Z%2BHviHQ4YfCvxDvtauru61K%2B0S4RmS40ixSKNE0uUFg7sWlQBcZI2oZVl%2BGqqpShZr%2B9N/g5tfgefmnH3F2dYGeDxuJ56c7XXssPG9mmvehhqc1qltNdndXT91ooor0D48KKKKACiiigArwP/AIJz%2BDND8I/Bjxld6RAVl1v4%2BfErUdRkOMyTt4y1ePP4JFGv0UV75XyV%2ByV4s/bO0/4e%2BKLP4Y/AP4YavoSfGn4i/wBn6jr3xd1HTbuZf%2BEz1ksZLaLQLlIiG3AATPkAHIJ2hOMW030NI1akIShF2UrXXezur%2Bj19T61orxn/hOP%2BChf/Rr/AMGf/D8at/8AMvR/wnH/AAUL/wCjX/gz/wCH41b/AOZemZns1FeM/wDCcf8ABQv/AKNf%2BDP/AIfjVv8A5l6P%2BE4/4KF/9Gv/AAZ/8Pxq3/zL0AezUV84/BH9o79u348fBjwh8cfCv7KHwktdL8Z%2BF9P13TbbUPjrqizwwXdtHcRpIE8MMocLIAwVmGQcEjmuo/4Tj/goX/0a/wDBn/w/Grf/ADL0AezUV4z/AMJx/wAFC/8Ao1/4M/8Ah%2BNW/wDmXo/4Tj/goX/0a/8ABn/w/Grf/MvQB7NRXzj8bv2jv27fgP8ABjxf8cfFX7KHwkutL8GeF9Q13UrbT/jrqjTzQWltJcSJGH8MKpcrGQoZlGSMkDmuo/4Tj/goX/0a/wDBn/w/Grf/ADL0AezUV4z/AMJx/wAFC/8Ao1/4M/8Ah%2BNW/wDmXo/4Tj/goX/0a/8ABn/w/Grf/MvQB7NRXjP/AAnH/BQv/o1/4M/%2BH41b/wCZeuX%2BLv7R37dvwa8KWni/xH%2Byh8JLm3vPFGiaFHHZfHXVGcT6pqtrpkDnd4YUbFmu42c5yEViAxwpAPo6ivGf%2BE4/4KF/9Gv/AAZ/8Pxq3/zL0f8ACcf8FC/%2BjX/gz/4fjVv/AJl6APZqK8Z/4Tj/AIKF/wDRr/wZ/wDD8at/8y9H/Ccf8FC/%2BjX/AIM/%2BH41b/5l6APZqK%2BcfH37R37dvw78V%2BCPCGsfsofCSa48eeKJdC0qS2%2BOuqFIJ49K1DUy8u7wwCE8nTplBUMd7oMYJZeo/wCE4/4KF/8ARr/wZ/8AD8at/wDMvQB7NRXjP/Ccf8FC/wDo1/4M/wDh%2BNW/%2BZej/hOP%2BChf/Rr/AMGf/D8at/8AMvQB7NWBaa9omha5rFvrmr21m818ksIup1j8xPs0K7l3EZG5GHHcV5x/wnH/AAUL/wCjX/gz/wCH41b/AOZeuX1b9o79u3R/jPoHwOuP2UPhI2qeIvC%2Br67Z3KfHXVPIjg065023mRyfDG4OzapAVAUghJMlSFDAHvX/AAnPgn/ocNK/8GEf/wAVR/wnPgn/AKHDSv8AwYR//FV5b/wnH/BQv/o1/wCDP/h%2BNW/%2BZej/AITj/goX/wBGv/Bn/wAPxq3/AMy9AHqX/Cc%2BCf8AocNK/wDBhH/8VWLrVl8CPEni/RPiF4itPCN/r/hoXI8Oa5ex2st5pQuUEdwLaZsvB5qKqvsI3qoDZArh/wDhOP8AgoX/ANGv/Bn/AMPxq3/zL0f8Jx/wUL/6Nf8Agz/4fjVv/mXoAvQ/s%2B/sM2%2Bq%2BIddt/gh8J477xbZ39p4rvE8NaYJdat77H22G7cR5uY7javmrIWEu0bw2K0fGvwr/ZF%2BJWm3ujfEX4cfDjX7PUtcj1rUbTW9HsLqO61JIEt0vZFlVg9wsMUcQlYFwkaKDhQB5xpP7R37dusfGfX/AIHW/wCyh8JF1Tw74X0jXby5f466p5EkGo3OpW8KIR4Y3F1bS5ywKgAPHgsSwXqP%2BE4/4KF/9Gv/AAZ/8Pxq3/zL0Adr4R0j9n74frbJ4D0vwdoi2ekwaVaDSILS2EFhCztDaJ5YG2FGkkKxj5VLsQBk1StPAv7Lth8Tr/42WPg7wDD4z1WwFjqfi6LT7JdUvLUBAIJboL5skeI0GxmK4ReOBXL/APCcf8FC/wDo1/4M/wDh%2BNW/%2BZej/hOP%2BChf/Rr/AMGf/D8at/8AMvQBtj4Q/seDxf4d%2BII%2BGHw0/t/whpcWm%2BE9b/sTT/tmi2USssdtaTbN9tCgdwscZVVDsABk1vNa/Ap7jXLt7bwkZfE8ax%2BJZClru1ZFh8lVuT1nAi/dgPuwny9OK4b/AITj/goX/wBGv/Bn/wAPxq3/AMy9cv4B/aO/bt%2BInivxv4Q0f9lD4SQ3HgPxRFoWqyXPx11QJPPJpWn6mHi2%2BGCSnk6jCpLBTvRxjADMAdp4C/Z3/YU%2BFXhjXfBPwv8AgZ8JfDejeKNN/s/xNpGgeGNLs7XV7TZJH9nuooY1S4i2SyrskDLtkcYwxz6HB4y8B2sCW1t4q0iOONAscaX0QVVAwAADwAK8w/4Tj/goX/0a/wDBn/w/Grf/ADL0f8Jx/wAFC/8Ao1/4M/8Ah%2BNW/wDmXoA9Hu9e0TXdc0e30PV7a8eG%2BeWYWs6yeWn2aZdzbScDc6jnua84/Zf/AOS3/tHf9lmsf/UK8L0f8Jx/wUL/AOjX/gz/AOH41b/5l6t/srfDn40%2BD9Y%2BKHjv46aB4X0nVPH3xCi1yz0rwn4ludWt7W1i0HR9MVXuLiys2aRpNOlcqItoWRBuY5wAet0UUUAFFFFABRRRQAUUUUAFFFFABRRRQAUUUUAFFFFABRRRQAUUUUAFFFFABXyv%2B09%2B1p8XPhh8Y/FmteAfDvg%2BTwx8H/D/AIfvfGp1rSLibVdUt9Xv5UuYLC4juI0svItrOO4zJFOLmQpGRD5fmn6orxn4z/sQ/Dj43fFI/EzXPHPirS4tRtdItfF/hrRrq1TTvFMGl3sl7YxXyy28kwWOaaXP2eWAyxyGKYyxhUAB7NRRRQAUUUUAfMfhz9pX4mQ/t/8Aij4P/EbWPD3hPw2viC00TwZFqPwi1lLrxjANAg1HEHiNrtdOaWO7udQAtBC8nl2kwCgs0i/TleV%2BLP2WoPH/AMZNI%2BKfj343%2BNdX0rw9rsetaB4AuDpkWjWOoR27wRzhobJL2XZ5kkipNdSRiR92z5EC%2BqUAFFFFAHi//BQX4u/HD9n79kfxp8evgFe%2BFI9Y8E6Fd65dQeMNFub62u7S1tpZnt0S2urZkldkRRIXKoCxKPwK8/8AHn7Wnxc8F/HjxbqfhTw74Qi%2BHnhD4x%2BEfh94ys5tIuDreq6rrsGipHqEN2lwsMccH9uaTGYpLeV5EhnxLHtQV7D%2B1j%2BzjZftafAjXv2fda%2BKvinwjpPieylsdcv/AAgunfa7mylieKa23X9pdRojq/LIiyAqNrrzni4P2AfB0/xFs/iL4q%2BOPj7XWOs6TrnibRtQl0qKx8T65piRpY6tex21hEy3EQgtMLbNBAxsbYvExjyQD3uiiigArxf9sn4u/HD4JWvgHxj8LL3wp/Y2ofEzw54e8X2PiDRbm5urm11XWbHTQbOWG6hS2kjW5lk3yJOpKIuzkmvaK8q/au/Zbf8Aaq8N6F4Xn%2BPvjfwNb6F4ksNdRvBcOjs93e2N5BeWbSnUtPvBtiuLeNwsYQNysm9TtAB5x%2Bzz%2B0r8TNb/AGqvFvwR%2BKGr%2BHvCenQ%2BKdbt/BPhKT4Razplzr1tC6Sm/t9auLv7BqDsZJpZYraAvyXYrhifpyvJdJ/ZRD/GTRfjL8R/2gPHfjWbwvd3l34T0LxCNJhsNHurm3ktZLiJbDT7aWV/s808K%2BfJKqLO%2B0AkEetUAFFFFAHh/wC3d8XPjx%2Bz98GtX%2BOvwo8Y%2BBbHT/C2i3N5e6L4s8M3t/c%2BIb3KLZ6ZZyW17B9nmuJSLdG8q6ZpZ4gsLH5W8/8Agj%2B198Z9c%2BJfgr%2B1vBnhLSPhp43%2BJ/ij4beFfDWnaXNHq%2BiX%2BgQ6tvnnuRcNbzQSN4f1NFhjt4jGrWx8yTLAen/tK/sgwftJePPBHxAm/aB8d%2BELnwDd3N7otj4Yi0aezkvZUEa3k0Gp6deI88MfmLDIApjE8pHzNkVfAf7DXw98B/GW3%2BLsPxF8XalBp2u6nr2ieENSubL%2BydK1vUY3j1DVIEitUn8%2BcT3ZZXmeFGvrkxxR%2BZwAe10UUUAFfL/7XPx4/aX%2BC3xE0/wppUPgDxro/jmHWrbRfhzF4PvpNYS1tNDuruS/uJxevFdWwuore2khFrED9vhQTGRkST6grw6b9ia4j/aP8V/tNaJ%2B1X8S9O1fxbpsOnXOlwweH57TT7OGBo4baza50mW5t4lld7rYs2153LuHB20AM/YQ/aD8b/Hv4e3l18V/H2jX3i7ThZtr/huy%2BF2r%2BEbzQHntllEFzZavdT3Dgtv8u4ASORUO0NtJr3SvN/gd%2Bzdp3wZ8T%2BJPiHrHxS8U%2BOPFXiuKxt9Y8T%2BLmsFuXtLMTfZbVItPtbW2jija5uXG2EMzXEhZmyMekUAFFFFAHxz/AMFBP24/ip%2Bxh45/tPXNF0Dxj4RfRtR1u38Ky/DnU7KW3TTdGvtSST/hIprp9Mnu/temjZYrAl0I5llA2wtI3r37NHxd%2BOerfFTxv%2Bz1%2B0dc%2BFNQ8T%2BEdJ0PWo9a8FaRc2Fjc2OqC8jSIwXNzcussVxp12pfzcSIYm2RklRW%2BOv7CXgj9pzWrq1%2BP/xb8a%2BKPBdzJcSL8MryTTYdFikmsZrJm329lHfSAR3EzBJbp0Dvu2/IgXp/2fP2ZtI%2BAd5r3iK7%2BKHizxx4j8SGzj1bxV41uLN76W2tIjFa2o%2Bx21vCsUQeVhiPezzyu7Ozk0AelUUUUAFfEf7U/wC2V%2B1n8G/jV4g%2BFHg7w34c8a6nYaLca74YCfA/xBHJooGo6ZaoYW%2B3OPE0gsdUuPO/svynhaErKIxMI6%2B3K8P179i3U/Evj0/E7Wv2ufijNrenwXkXg28KaAB4VW6mhkn%2ByRjSdk7NHAtvuvVumWJnClXdnIB1X7LHxYf4yfCODxZe/EzRvFV/DqN1ZapfaN4MvvDotriKVla1m03ULie6s54xhXjmcPn5tqhgK9GrhvgH8BfD3wA8M6no2leKdb8Qajr%2BvXGt%2BJPEniOaBr3Vb%2BYIjTyi3ihgTEcUMSpDFHGqRIAowSe5oAKKKKACiiigAooooAKKKKAKPijxDYeEvDWo%2BK9VDm10yxmu7kRLlvLjQu2B3OFNfOf7E37Sfxr8f%2BKdH8GfGzw94Msx46%2BFtl8RvDMPgzSri0GmR3lwTd6fdma4lF3NG9zbP9sQQCdpZiYI9oL/AEtd2lrf2stje26TQzRtHNFKoZXUjBUg8EEcYryH9mb9ivwF%2BzBqr6voHxB8W%2BJZbbwxY%2BGfDo8WXtrMNA0KzeR7fTbU29vCWjUyfNLOZriQRxeZM/lrgA9iooooAK4X9qDx58RfhZ%2BzR8RPid8H/Ci694t8OeBdX1TwtobWM10NR1G3s5Zba2MMDLLMJJURPLjYO27CkEg13VZ3i3RL/wAS%2BGNQ8P6X4r1HQrm9tJIbfWtIWBrqxdlIE0QuIpYi6nkCSN0yPmVhkEA8u/Yp%2BLU/xQ%2BGd9Zat8QvD%2Bs6n4d1VdOvNM0T4Yan4OfQ0FtBJFZ3Glapcz3MLhHEiu3lo8UsWxMDe/sVeefAf9nbSfgdeeJfEdz8RPEnjHxJ4v1GG88ReKfFb2Yu7ow26W8EQjsba2tooo40AVY4UyWdmLMzMfQ6ACiiigD5c/ao/ax%2BKH7OHxe8cWXxK0bwl4i%2BF9h%2Bzv4v8e22hW%2BiXCaq7aINLWe2uLmS5e3minW%2BnAQWyFQiZd8sK7f9mf4v/HzVPi54y/Z1/aWfwleeKPDHhjw94lj1XwVpNzY2Ullqz6lbrbGG5ublzLDcaRdgyiQLIjxN5cZ3LUHxj/YV8O/HT46t8ZfHnx28cy6bN4K1PwjffD2GDRf7Eu9G1Jbb7faSF9Na9Ina0gdnF0HUoQjIjMh6T9nf9l3Q/wBn2%2B1rxHP8UPFvjfxDr9rYWV/4n8bXNpJemwsUkWzsx9ktrePyojPcOCUMjvcyu7uzZoA9PooooAK%2BRPjX%2B0v%2B1t4M139oDwJb%2BFfBniy98BeH/CniT4bWOk/D/U7%2BdY9R1XUoQl5axXjy6jPAumxzqbYW5LkhV%2BVWr67rwuX9ijxDF8dPG3x/0L9tD4raVq3jfSLHTLmxsrPww1ppttZXFzPZpbCXRXk/dG8ulBmeUus5EnmFUKgHV/sqfFub4y/CkeJtR%2BJ2jeKdRtdVubHVrrR/BF/4bNncRN81rPpmo3E91aTopXckzBiGVtqqwr0muE%2BAfwD0D4A6FrNjp/i3XPEeq%2BJvEEuueJ/E3iSW3a91W/khhg82QW0MMEYWC3t4VSKKNFSFAFzknu6ACiiigD42/aW/a7/aW/Z4%2BM0Hw21lPhn41vtbggm8Iw6d4WvbSXwXeal4h0zw9pE2pyvfTC6inbV5wWiWzkcWN0sYZfMMXuP7Kvxf%2BJHxGHj/AOH3xiOiT%2BKvhp48bw1rOq%2BGtOms7DU/M0vTtWt7iG3mnnkt82uqW6PG00uJI5MMQRjhbb/gmr4Sa6%2BIb%2BIf2l/idrNv8SdeOuaxb6kdC8yz1KK4hn0%2B5trqLS0ulNg9vbi0jeaSKJYUDI/OfWPgH8BdD%2BAfh7VtNsvF%2BueJNW8Ra9NrXifxR4le2N/q99JHFD50wtYIIF2QQW8CJFFGixwRqF4JIB3VFFFADLn7T9mk%2Bx7PO2HyvNzt3Y4zjnGa%2BIPit%2B1z%2B2n8NPiJrnw2t7bwH4z17wxe%2BGrfVvHXgj4K6/q0fhy31Zrx72wl0qz1Ke7uZo4bKxuiYp0/d3ULSwIDE0n29dwyXFrLbw3UkDyRsqzxBS8ZIwGXcCuR1GQR6g189/Bj9gLxB8BPhtcfDT4d/t1fGKKO61Z9Tm1m8svCc%2BoS3cryyXM80z6EftMk7y7pJJxI%2BY02FAMEA9Z%2BAnxDsvit8HfD/wAQrD4gaN4qTU9PEj6/4f0mawtLuQErIUtZ5ppbYq6sjQySO8bKysdykDr65L4F/Bfwl%2Bz78L9O%2BFPgq5v7iysJbq4mvtVuRNdX13dXMt1dXUzhVDSzXE80r7VVd0h2qq4UdbQAVR8Tw%2BJLnw3qFv4N1OxstXkspV0u81Owe6toLgoRHJLDHLE00atgsiyRlgCA6k7herN8Y6Df%2BKPC1/4d0vxbqWg3N5avFBrWjiA3Vi5HE0QuIpYi6nkCSN0OPmVhkUAfD3w3/bs/a1%2BMHxT1v4JfCzTfh8njPTbXXb6Txn4r%2BF2taGuqaZpFrosqWMuiXl8moafK934h2JNPM8flQyXCQus6A/Y3wC%2BLWm/Hz4E%2BCvjro2my2dn418Jabr1pZzPueCK8tY7hY2IAyVEgBPqK8W1f/gmR4H1rXL74i3f7SnxTT4gasl5a618Sba90iHVr/TLq2tbabTCiaaLOG2KWVow8i2ilWSBZVlDlmP0H4L8H%2BGvh54O0nwB4M0mLT9H0PTINP0mwhzstraGNY4o1zzhUVVH0oA06KKKAOX%2BNOo%2BONG%2BFuta38OfENjperWFmbqG%2B1Dwfe%2BIESOMh5QNOsZ4Lm8kaJXVIoZA5dlwrn5G%2BLfhL/wAFEfj94k8aaHqfje48I%2BBPBmpTzr4g8cXnwM8RTW2sX8Ov3WkIlzKt9GnhmeS1tLX9xqjSSwPKsb52BK%2B2/iZ4M13x74Sm8OeG/ilr/g28kljeLX/DMVi93BtYEqq39tcwMGAKkPE3BOMHBHit1/wTm8Kah4PuPhtq37SHxNu/DGuahNf%2BPNAmuNHEXjC7nvGuria%2BlXTRcReaWWFo7OW1iEMSRqijduAPomiiigAooooAKKKKACiiigAooooAKKKKACiiigAooooAKKKKACiiigAooooAKKKKACiiigAooooAKKKKACiiigAooooAKKKKACiiigAooooAKKKKACiiigAooooAKKKKACiiigAooooAKKKKACiiigAooooAKKKKACiiigAooooAKKKKACiiigAooooAKKKKACiiigAooooAKKKKACiiigAooooAKKKKACiiigAooooAKKKKACiiigAooooAKKKKACiiigAooooAKKKKACiiigAooooAKKKKACiiigAooooAKKKKACiiigAooooAKKKKACiiigD/2Q%3D%3D\">"
      ]
     },
     "metadata": {},
     "output_type": "display_data"
    }
   ],
   "source": [
    "s.run(tf.global_variables_initializer())\n",
    "\n",
    "BATCH_SIZE = 512\n",
    "EPOCHS = 40\n",
    "\n",
    "# for logging the progress right here in Jupyter (for those who don't have TensorBoard)\n",
    "simpleTrainingCurves = matplotlib_utils.SimpleTrainingCurves(\"cross-entropy\", \"accuracy\")\n",
    "\n",
    "for epoch in range(EPOCHS):  # we finish an epoch when we've looked at all training samples\n",
    "    \n",
    "    batch_losses = []\n",
    "    for batch_start in range(0, X_train_flat.shape[0], BATCH_SIZE):  # data is already shuffled\n",
    "        _, batch_loss = s.run([step, loss], {input_X: X_train_flat[batch_start:batch_start+BATCH_SIZE], \n",
    "                                             input_y: y_train_oh[batch_start:batch_start+BATCH_SIZE]})\n",
    "        # collect batch losses, this is almost free as we need a forward pass for backprop anyway\n",
    "        batch_losses.append(batch_loss)\n",
    "\n",
    "    train_loss = np.mean(batch_losses)\n",
    "    val_loss = s.run(loss, {input_X: X_val_flat, input_y: y_val_oh})  # this part is usually small\n",
    "    train_accuracy = accuracy_score(y_train, s.run(classes, {input_X: X_train_flat}))  # this is slow and usually skipped\n",
    "    valid_accuracy = accuracy_score(y_val, s.run(classes, {input_X: X_val_flat}))  \n",
    "    simpleTrainingCurves.add(train_loss, val_loss, train_accuracy, valid_accuracy)"
   ]
  },
  {
   "cell_type": "markdown",
   "metadata": {},
   "source": [
    "# Submit a linear model"
   ]
  },
  {
   "cell_type": "code",
   "execution_count": 61,
   "metadata": {
    "collapsed": true
   },
   "outputs": [],
   "source": [
    "## GRADED PART, DO NOT CHANGE!\n",
    "# Testing shapes \n",
    "grader.set_answer(\"9XaAS\", grading_utils.get_tensors_shapes_string([W, b, input_X, input_y, logits, probas, classes]))\n",
    "# Validation loss\n",
    "grader.set_answer(\"vmogZ\", s.run(loss, {input_X: X_val_flat, input_y: y_val_oh}))\n",
    "# Validation accuracy\n",
    "grader.set_answer(\"RMv95\", accuracy_score(y_val, s.run(classes, {input_X: X_val_flat})))"
   ]
  },
  {
   "cell_type": "code",
   "execution_count": 62,
   "metadata": {},
   "outputs": [
    {
     "name": "stdout",
     "output_type": "stream",
     "text": [
      "Submitted to Coursera platform. See results on assignment page!\n"
     ]
    }
   ],
   "source": [
    "# you can make submission with answers so far to check yourself at this stage\n",
    "grader.submit(COURSERA_EMAIL, COURSERA_TOKEN)"
   ]
  },
  {
   "cell_type": "markdown",
   "metadata": {},
   "source": [
    "# MLP with hidden layers"
   ]
  },
  {
   "cell_type": "markdown",
   "metadata": {},
   "source": [
    "Previously we've coded a dense layer with matrix multiplication by hand. \n",
    "But this is not convenient, you have to create a lot of variables and your code becomes a mess. \n",
    "In TensorFlow there's an easier way to make a dense layer:\n",
    "```python\n",
    "hidden1 = tf.layers.dense(inputs, 256, activation=tf.nn.sigmoid)\n",
    "```\n",
    "\n",
    "That will create all the necessary variables automatically.\n",
    "Here you can also choose an activation function (remember that we need it for a hidden layer!).\n",
    "\n",
    "Now define the MLP with 2 hidden layers and restart training with the cell above.\n",
    "\n",
    "You're aiming for ~0.97 validation accuracy here."
   ]
  },
  {
   "cell_type": "code",
   "execution_count": 72,
   "metadata": {},
   "outputs": [],
   "source": [
    "# write the code here to get a new `step` operation and then run the cell with training loop above.\n",
    "# name your variables in the same way (e.g. logits, probas, classes, etc) for safety.\n",
    "### YOUR CODE HERE ###\n",
    "\n",
    "hidden1 = tf.layers.dense(input_X, 256, activation=tf.nn.sigmoid)\n",
    "hidden2 = tf.layers.dense(hidden1, 256, activation=tf.nn.sigmoid)\n",
    "logits = tf.layers.dense(hidden2, 10, activation=tf.nn.softmax)\n",
    "classes = tf.argmax(logits, axis=1)\n",
    "\n",
    "loss = tf.reduce_mean(tf.nn.softmax_cross_entropy_with_logits(labels = input_y, logits = logits)) ### cross-entropy loss\n",
    "\n",
    "# Use a default tf.train.AdamOptimizer to get an SGD step\n",
    "step = tf.train.AdamOptimizer(0.001).minimize(loss) ### optimizer step that minimizes the loss"
   ]
  },
  {
   "cell_type": "markdown",
   "metadata": {},
   "source": [
    "# Submit the MLP with 2 hidden layers\n",
    "Run these cells after training the MLP with 2 hidden layers"
   ]
  },
  {
   "cell_type": "code",
   "execution_count": 75,
   "metadata": {
    "collapsed": true
   },
   "outputs": [],
   "source": [
    "## GRADED PART, DO NOT CHANGE!\n",
    "# Validation loss for MLP\n",
    "grader.set_answer(\"i8bgs\", s.run(loss, {input_X: X_val_flat, input_y: y_val_oh}))\n",
    "# Validation accuracy for MLP\n",
    "grader.set_answer(\"rE763\", accuracy_score(y_val, s.run(classes, {input_X: X_val_flat})))"
   ]
  },
  {
   "cell_type": "code",
   "execution_count": 76,
   "metadata": {},
   "outputs": [
    {
     "name": "stdout",
     "output_type": "stream",
     "text": [
      "Submitted to Coursera platform. See results on assignment page!\n"
     ]
    }
   ],
   "source": [
    "# you can make submission with answers so far to check yourself at this stage\n",
    "grader.submit(COURSERA_EMAIL, COURSERA_TOKEN)"
   ]
  }
 ],
 "metadata": {
  "kernelspec": {
   "display_name": "Python 3",
   "language": "python",
   "name": "python3"
  },
  "language_info": {
   "codemirror_mode": {
    "name": "ipython",
    "version": 3
   },
   "file_extension": ".py",
   "mimetype": "text/x-python",
   "name": "python",
   "nbconvert_exporter": "python",
   "pygments_lexer": "ipython3",
   "version": "3.6.2"
  }
 },
 "nbformat": 4,
 "nbformat_minor": 1
}
